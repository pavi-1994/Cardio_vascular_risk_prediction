{
 "cells": [
  {
   "cell_type": "markdown",
   "id": "ca46e14d",
   "metadata": {
    "colab_type": "text",
    "id": "view-in-github"
   },
   "source": [
    "<a href=\"https://colab.research.google.com/github/pavi-1994/Cardio_vascular_risk_prediction/blob/main/cardivascular_risk_prediction.ipynb\" target=\"_parent\"><img src=\"https://colab.research.google.com/assets/colab-badge.svg\" alt=\"Open In Colab\"/></a>"
   ]
  },
  {
   "cell_type": "markdown",
   "id": "af68c26e",
   "metadata": {
    "id": "af68c26e"
   },
   "source": [
    "# Problem statement:\n",
    "The dataset is from an ongoing cardiovascular study on residents of the town of Framingham,\n",
    "Massachusetts. The classification goal is to predict whether the patient has a 10-year risk of\n",
    "future coronary heart disease (CHD). The dataset provides the patients’ information. It includes\n",
    "over 4,000 records and 15 attributes.Variables\n",
    "Each attribute is a potential risk factor. There are both demographic, behavioral, and medical risk\n",
    "factors.\n",
    "\n",
    "## Data description:\n",
    "\n",
    "#### Demographic:\n",
    "• Sex: male or female(\"M\" or \"F\")\n",
    "\n",
    "• Age: Age of the patient;(Continuous - Although the recorded ages have been truncated to\n",
    "whole numbers, the concept of age is continuous)\n",
    "\n",
    "#### Behavioral\n",
    "• is_smoking: whether or not the patient is a current smoker (\"YES\" or \"NO\")\n",
    "\n",
    "• Cigs Per Day: the number of cigarettes that the person smoked on average in one day.(can be\n",
    "considered continuous as one can have any number of cigarettes, even half a cigarette.)\n",
    "\n",
    "#### Medical( history)\n",
    "\n",
    "• BP Meds: whether or not the patient was on blood pressure medication (Nominal)\n",
    "\n",
    "• Prevalent Stroke: whether or not the patient had previously had a stroke (Nominal)\n",
    "\n",
    "• Prevalent Hyp: whether or not the patient was hypertensive (Nominal)\n",
    "\n",
    "• Diabetes: whether or not the patient had diabetes (Nominal)\n",
    "\n",
    "#### Medical(current):\n",
    "\n",
    "• Tot Chol: total cholesterol level (Continuous)\n",
    "\n",
    "• Sys BP: systolic blood pressure (Continuous)\n",
    "\n",
    "• Dia BP: diastolic blood pressure (Continuous)\n",
    "\n",
    "• BMI: Body Mass Index (Continuous)\n",
    "\n",
    "• Heart Rate: heart rate (Continuous - In medical research, variables such as heart rate though in\n",
    "fact discrete, yet are considered continuous because of large number of possible values.)\n",
    "\n",
    "• Glucose: glucose level (Continuous)\n",
    "\n",
    "\n",
    "#### Predict variable (desired target)\n",
    "• 10-year risk of coronary heart disease CHD(binary: “1”, means “Yes”, “0” means “No”) -\n",
    "DV"
   ]
  },
  {
   "cell_type": "code",
   "execution_count": null,
   "id": "1df42aac",
   "metadata": {
    "id": "1df42aac"
   },
   "outputs": [],
   "source": [
    "#importing required libraries\n",
    "import pandas as pd\n",
    "import numpy as np\n",
    "import matplotlib.pyplot as plt\n",
    "%matplotlib inline\n",
    "import seaborn as sns\n",
    "import warnings\n",
    "warnings.simplefilter(\"ignore\")\n",
    "\n",
    "# to handle missing values for continuous value\n",
    "from sklearn.impute import KNNImputer\n",
    "#for categorical value\n",
    "from sklearn.impute import SimpleImputer\n",
    "\n",
    "\n",
    "#vif\n",
    "from statsmodels.stats.outliers_influence import variance_inflation_factor\n",
    "#train_test_split\n",
    "from sklearn.model_selection import train_test_split\n",
    "#scaling\n",
    "from sklearn.preprocessing import StandardScaler,MinMaxScaler\n",
    "\n",
    "#to deal with imbalanced data\n",
    "from imblearn.over_sampling import SMOTE\n",
    "\n",
    "#logistic regression\n",
    "from sklearn.linear_model import LogisticRegression\n",
    "#naive bayes classifier\n",
    "from sklearn.naive_bayes import GaussianNB\n",
    "## N nearest neigbour  classifier\n",
    "from sklearn.neighbors import KNeighborsClassifier\n",
    "#decision tree classifier\n",
    "from sklearn.tree import DecisionTreeClassifier\n",
    "#Import Random Forest Model\n",
    "from sklearn.ensemble import RandomForestClassifier\n",
    "#XGBRFClassifier\n",
    "from xgboost import XGBRFClassifier\n",
    "#support vector machine\n",
    "from sklearn.svm import SVC\n",
    "\n",
    "# for hyperparameter tunning\n",
    "from sklearn.model_selection import GridSearchCV\n",
    "from sklearn.model_selection import KFold\n",
    "\n",
    "#evaluation techiniques\n",
    "from sklearn.metrics import confusion_matrix, accuracy_score, roc_curve,precision_score, classification_report\n",
    "from sklearn.metrics import make_scorer, recall_score, f1_score, roc_auc_score,auc\n",
    "\n",
    "\n",
    "\n"
   ]
  },
  {
   "cell_type": "code",
   "execution_count": null,
   "id": "HqyKxdnFmi8h",
   "metadata": {
    "colab": {
     "base_uri": "https://localhost:8080/"
    },
    "id": "HqyKxdnFmi8h",
    "outputId": "6d892b37-f3a6-45d8-91af-edd1225086ec"
   },
   "outputs": [],
   "source": [
    "from google.colab import drive\n",
    "drive.mount('/content/drive')"
   ]
  },
  {
   "cell_type": "code",
   "execution_count": null,
   "id": "avVPKxHcDZ0z",
   "metadata": {
    "id": "avVPKxHcDZ0z"
   },
   "outputs": [],
   "source": [
    "file_path=\"/content/drive/MyDrive/almabetter/module 4/capstone_project_3/data_cardiovascular_risk.csv\""
   ]
  },
  {
   "cell_type": "markdown",
   "id": "2e3cb835",
   "metadata": {
    "id": "2e3cb835"
   },
   "source": [
    "### Importing"
   ]
  },
  {
   "cell_type": "code",
   "execution_count": null,
   "id": "0bed48bc",
   "metadata": {
    "colab": {
     "base_uri": "https://localhost:8080/",
     "height": 206
    },
    "id": "0bed48bc",
    "outputId": "b2682e35-4041-4c96-bdd4-23c43cab39f3"
   },
   "outputs": [],
   "source": [
    "#importing data \n",
    "cardio_df=pd.read_csv(file_path)\n",
    "cardio_df.head()"
   ]
  },
  {
   "cell_type": "code",
   "execution_count": null,
   "id": "fe6f70ea",
   "metadata": {
    "colab": {
     "base_uri": "https://localhost:8080/",
     "height": 206
    },
    "id": "fe6f70ea",
    "outputId": "3fd62780-18f3-4c12-e78e-338613ef82bb"
   },
   "outputs": [],
   "source": [
    "#print tail of dataframe\n",
    "cardio_df.tail()"
   ]
  },
  {
   "cell_type": "code",
   "execution_count": null,
   "id": "c747b944",
   "metadata": {
    "colab": {
     "base_uri": "https://localhost:8080/"
    },
    "id": "c747b944",
    "outputId": "d1337834-4780-4790-f67d-4991e229c04b"
   },
   "outputs": [],
   "source": [
    "#shape of data\n",
    "cardio_df.shape"
   ]
  },
  {
   "cell_type": "code",
   "execution_count": null,
   "id": "239ec546",
   "metadata": {
    "colab": {
     "base_uri": "https://localhost:8080/"
    },
    "id": "239ec546",
    "outputId": "539ecbd8-e904-49db-f037-c2cb9816651b"
   },
   "outputs": [],
   "source": [
    "#printing the columns\n",
    "cardio_df.columns"
   ]
  },
  {
   "cell_type": "code",
   "execution_count": null,
   "id": "ecd00c22",
   "metadata": {
    "colab": {
     "base_uri": "https://localhost:8080/"
    },
    "id": "ecd00c22",
    "outputId": "1cfde886-3bd2-4364-b8d8-f6a72fd3e021"
   },
   "outputs": [],
   "source": [
    "#using info\n",
    "cardio_df.info()"
   ]
  },
  {
   "cell_type": "code",
   "execution_count": null,
   "id": "a33c7460",
   "metadata": {
    "colab": {
     "base_uri": "https://localhost:8080/"
    },
    "id": "a33c7460",
    "outputId": "5f244052-c2e1-4fc7-857a-e23a1ff9f883"
   },
   "outputs": [],
   "source": [
    "#check the datatypes of columns present in the cardio_df\n",
    "print(f'Feature datatype of cardio_df :\\n\\n {cardio_df.dtypes}')"
   ]
  },
  {
   "cell_type": "code",
   "execution_count": null,
   "id": "39a16498",
   "metadata": {
    "colab": {
     "base_uri": "https://localhost:8080/",
     "height": 582
    },
    "id": "39a16498",
    "outputId": "7dd8b048-96a7-4162-e8b7-ea61075f6120"
   },
   "outputs": [],
   "source": [
    "#checking full information of data\n",
    "cardio_df.describe(include=\"all\").T"
   ]
  },
  {
   "cell_type": "code",
   "execution_count": null,
   "id": "b263b8a4",
   "metadata": {
    "colab": {
     "base_uri": "https://localhost:8080/"
    },
    "id": "b263b8a4",
    "outputId": "3869a97b-199d-4f87-f88e-da8726041ef5"
   },
   "outputs": [],
   "source": [
    "#check no of unique element present in each feature (columns)\n",
    "cardio_df.nunique()\n"
   ]
  },
  {
   "cell_type": "markdown",
   "id": "97a8ba76",
   "metadata": {
    "id": "97a8ba76"
   },
   "source": [
    "### Missing values"
   ]
  },
  {
   "cell_type": "code",
   "execution_count": null,
   "id": "d85a8015",
   "metadata": {
    "colab": {
     "base_uri": "https://localhost:8080/"
    },
    "id": "d85a8015",
    "outputId": "6f737aa8-9ccb-4e75-c66e-52b82b34d6d0"
   },
   "outputs": [],
   "source": [
    "#checking for null value \n",
    "print('Missing Data Count')\n",
    "print(cardio_df.isnull().sum().sort_values(ascending = False))\n",
    "\n",
    "print('--'*50)\n",
    "print('Missing Data Percentage')\n",
    "print(f'{round(cardio_df.isnull().sum().sort_values(ascending = False)/len(cardio_df)*100,2)}%')"
   ]
  },
  {
   "cell_type": "markdown",
   "id": "00b56d13",
   "metadata": {
    "id": "00b56d13"
   },
   "source": [
    "### here we are observing prescence of missing value in percentage wise as we listed in descending order glucose, education, BPMeds, totChol, cigsPerDay, BMI, Heartrate. Handling the missing values are most important.\n",
    "\n",
    "Before dealing with missing value we will convert categorical into numerical i.e by label encoding"
   ]
  },
  {
   "cell_type": "code",
   "execution_count": null,
   "id": "00b371a6",
   "metadata": {
    "id": "00b371a6"
   },
   "outputs": [],
   "source": [
    "# Replacing string categorical value with numerical value 0 or 1\n",
    "\n",
    "cardio_df['sex'] = cardio_df['sex'].replace({'F':1,'M':0})\n",
    "cardio_df['is_smoking'] = cardio_df['is_smoking'].replace({'YES':1,'NO':0})"
   ]
  },
  {
   "cell_type": "markdown",
   "id": "a730118c",
   "metadata": {
    "id": "a730118c"
   },
   "source": [
    "## Create a list of categorical and continuous features:\n",
    "    "
   ]
  },
  {
   "cell_type": "code",
   "execution_count": null,
   "id": "629b1091",
   "metadata": {
    "colab": {
     "base_uri": "https://localhost:8080/"
    },
    "id": "629b1091",
    "outputId": "2756b383-d957-462f-9d3a-3bf1d13878d8"
   },
   "outputs": [],
   "source": [
    "# Lets check the discrete and continuous features that contain null values\n",
    "categorical_features = ['education',\"BPMeds\"]\n",
    "continuous_features = ['cigsPerDay','glucose','heartRate','BMI',\"totChol\" ]\n",
    "\n",
    "print(categorical_features)\n",
    "print(continuous_features)"
   ]
  },
  {
   "cell_type": "markdown",
   "id": "9b835bc8",
   "metadata": {
    "id": "9b835bc8"
   },
   "source": [
    "### Missing value imputation using knn imputer"
   ]
  },
  {
   "cell_type": "code",
   "execution_count": null,
   "id": "59cc73ea",
   "metadata": {
    "colab": {
     "base_uri": "https://localhost:8080/"
    },
    "id": "59cc73ea",
    "outputId": "a15185ff-0aed-4b85-c873-026239f95360"
   },
   "outputs": [],
   "source": [
    "# for categorical value nan value imputation using knn\n",
    "imputer_categorical= SimpleImputer(strategy=\"most_frequent\")\n",
    "cardio_df[categorical_features]=imputer_categorical.fit_transform(cardio_df[categorical_features])\n",
    "#cardio_knn_imputed= pd.DataFrame(cardio_df_imputed,columns=cardio_df.columns)\n",
    "cardio_df.isnull().sum()"
   ]
  },
  {
   "cell_type": "code",
   "execution_count": null,
   "id": "1f5b3383",
   "metadata": {
    "id": "1f5b3383"
   },
   "outputs": [],
   "source": [
    "#for continuous feature nan value imputation using knn\n",
    "imputer = KNNImputer(n_neighbors=1)\n",
    "cardio_df[continuous_features]=imputer.fit_transform(cardio_df[continuous_features])"
   ]
  },
  {
   "cell_type": "markdown",
   "id": "79a318f9",
   "metadata": {
    "id": "79a318f9"
   },
   "source": [
    "checking after imputation of nan value using knn imputer"
   ]
  },
  {
   "cell_type": "code",
   "execution_count": null,
   "id": "aab4f652",
   "metadata": {
    "colab": {
     "base_uri": "https://localhost:8080/"
    },
    "id": "aab4f652",
    "outputId": "18f90ced-154e-401f-b0bd-de028150f404"
   },
   "outputs": [],
   "source": [
    "#checking for null value \n",
    "print('Missing Data Count')\n",
    "print(cardio_df.isnull().sum().sort_values(ascending = False))\n",
    "\n",
    "print('--'*50)\n",
    "print('Missing Data Percentage')\n",
    "print(f'{round(cardio_df.isnull().sum().sort_values(ascending = False)/len(cardio_df)*100,2)}%')"
   ]
  },
  {
   "cell_type": "code",
   "execution_count": null,
   "id": "2cdf18ea",
   "metadata": {
    "colab": {
     "base_uri": "https://localhost:8080/"
    },
    "id": "2cdf18ea",
    "outputId": "d9b6f499-126e-4637-9431-3b02feb4798e"
   },
   "outputs": [],
   "source": [
    "#check presence of duplicated rows\n",
    "cardio_df.duplicated().sum()"
   ]
  },
  {
   "cell_type": "markdown",
   "id": "8dfee7b8",
   "metadata": {
    "id": "8dfee7b8"
   },
   "source": [
    "### Knowing about target variable\n",
    "\n",
    "**10-year risk of coronary heart disease CHD(binary: “1”, means “Yes”, “0” means “No”) - DV**"
   ]
  },
  {
   "cell_type": "code",
   "execution_count": null,
   "id": "6e6b7f13",
   "metadata": {
    "colab": {
     "base_uri": "https://localhost:8080/"
    },
    "id": "6e6b7f13",
    "outputId": "c15b5b3a-ebb8-4cd5-a37e-3a4c1df2de00"
   },
   "outputs": [],
   "source": [
    "#value_count\n",
    "cardio_df[\"TenYearCHD\"].value_counts()"
   ]
  },
  {
   "cell_type": "code",
   "execution_count": null,
   "id": "2d530b09",
   "metadata": {
    "colab": {
     "base_uri": "https://localhost:8080/",
     "height": 278
    },
    "id": "2d530b09",
    "outputId": "de692f66-2786-46c3-a515-993192392790"
   },
   "outputs": [],
   "source": [
    "#To get the pie Plot to analyze TenYearCHD\n",
    "cardio_df[\"TenYearCHD\"].value_counts().plot(kind=\"bar\")\n",
    "plt.title('Pie Chart for TenYearCHD')\n",
    "plt.show()"
   ]
  },
  {
   "cell_type": "code",
   "execution_count": null,
   "id": "d54e3afb",
   "metadata": {
    "colab": {
     "base_uri": "https://localhost:8080/",
     "height": 482
    },
    "id": "d54e3afb",
    "outputId": "6e68bee7-a38d-4876-aace-1477fb0e69b6"
   },
   "outputs": [],
   "source": [
    "#To get the pie Plot to analyze seasons\n",
    "cardio_df[\"TenYearCHD\"].value_counts().plot.pie(explode=[0.05,0.05], autopct='%1.1f%%',  startangle=90,shadow=True, figsize=(8,8))\n",
    "plt.title('Pie Chart for TenYearCHD')\n",
    "plt.show()"
   ]
  },
  {
   "cell_type": "markdown",
   "id": "iJ6tF7BpH0y8",
   "metadata": {
    "id": "iJ6tF7BpH0y8"
   },
   "source": [
    "From above analysis of target variabale \"TenYearCHD\" we observed that dataset is biased we need to carefully deal with biased dataset"
   ]
  },
  {
   "cell_type": "code",
   "execution_count": null,
   "id": "721GPiLvy6Yh",
   "metadata": {
    "id": "721GPiLvy6Yh"
   },
   "outputs": [],
   "source": [
    "#renaming the TenYearCHD target feature\n",
    "cardio_df.rename(columns={\"TenYearCHD\":\"cardio_risk\"},inplace=True)"
   ]
  },
  {
   "cell_type": "code",
   "execution_count": null,
   "id": "77d61593",
   "metadata": {
    "colab": {
     "base_uri": "https://localhost:8080/"
    },
    "id": "77d61593",
    "outputId": "a088f6f0-9d45-4a21-f78f-e536f63a947b"
   },
   "outputs": [],
   "source": [
    "### Univarient analysis  of continuous variables\n",
    "cardio_numerics_col = cardio_df.select_dtypes(include=np.number).columns.tolist()\n",
    "print(\"numerical columns \\n\")\n",
    "print(cardio_numerics_col)\n"
   ]
  },
  {
   "cell_type": "markdown",
   "id": "f96124ec",
   "metadata": {
    "id": "f96124ec"
   },
   "source": [
    "\n",
    "\n",
    "### 1. Sex"
   ]
  },
  {
   "cell_type": "code",
   "execution_count": null,
   "id": "75fcf908",
   "metadata": {
    "colab": {
     "base_uri": "https://localhost:8080/"
    },
    "id": "75fcf908",
    "outputId": "bcad6379-ea13-426f-e8c9-96e7a20ee0bb"
   },
   "outputs": [],
   "source": [
    "cardio_df[\"sex\"].value_counts()"
   ]
  },
  {
   "cell_type": "code",
   "execution_count": null,
   "id": "c37454a2",
   "metadata": {
    "colab": {
     "base_uri": "https://localhost:8080/",
     "height": 482
    },
    "id": "c37454a2",
    "outputId": "1c5876c6-ae99-4077-8579-1268296e002e"
   },
   "outputs": [],
   "source": [
    "cardio_df[\"sex\"].value_counts().plot.pie(explode=[0.05,0.05], autopct='%1.1f%%',  startangle=90,shadow=True, figsize=(8,8))\n",
    "plt.title('Pie Chart for gender')\n",
    "plt.show()"
   ]
  },
  {
   "cell_type": "markdown",
   "id": "vnxPns9NHT95",
   "metadata": {
    "id": "vnxPns9NHT95"
   },
   "source": [
    "The dataset contain 43.3% of male data and remaining data belongs to female "
   ]
  },
  {
   "cell_type": "code",
   "execution_count": null,
   "id": "5e618a80",
   "metadata": {
    "colab": {
     "base_uri": "https://localhost:8080/",
     "height": 143
    },
    "id": "5e618a80",
    "outputId": "a642b6d7-32a9-4dad-cc4d-7a46214e47e8"
   },
   "outputs": [],
   "source": [
    "cardio_df.groupby([\"sex\",\"cardio_risk\"])[\"cardio_risk\"].count().unstack('cardio_risk')"
   ]
  },
  {
   "cell_type": "code",
   "execution_count": null,
   "id": "44df969c",
   "metadata": {
    "colab": {
     "base_uri": "https://localhost:8080/",
     "height": 293
    },
    "id": "44df969c",
    "outputId": "f6cf0e5c-a27c-464b-9152-44b190f938c6"
   },
   "outputs": [],
   "source": [
    "# plotting graph for checking how many users are male or female and how it affects the target variable\n",
    "\n",
    "pd.crosstab(cardio_df['sex'],cardio_df['cardio_risk']).plot(kind='bar')"
   ]
  },
  {
   "cell_type": "markdown",
   "id": "bf8890ed",
   "metadata": {
    "id": "bf8890ed"
   },
   "source": [
    "In cimparison with male female less likely  to get cardiovascular risk"
   ]
  },
  {
   "cell_type": "markdown",
   "id": "2e5f87ba",
   "metadata": {
    "id": "2e5f87ba"
   },
   "source": [
    "### 2. 'is_smoking'"
   ]
  },
  {
   "cell_type": "code",
   "execution_count": null,
   "id": "26fb390d",
   "metadata": {
    "colab": {
     "base_uri": "https://localhost:8080/"
    },
    "id": "26fb390d",
    "outputId": "906b12e6-1dca-4d88-93db-8710e2a4c006"
   },
   "outputs": [],
   "source": [
    "cardio_df[\"is_smoking\"].value_counts()"
   ]
  },
  {
   "cell_type": "code",
   "execution_count": null,
   "id": "655c96cb",
   "metadata": {
    "colab": {
     "base_uri": "https://localhost:8080/",
     "height": 482
    },
    "id": "655c96cb",
    "outputId": "ee96af56-4d12-405d-fe8c-e65da7dcf67c"
   },
   "outputs": [],
   "source": [
    "cardio_df[\"is_smoking\"].value_counts().plot.pie(explode=[0.05,0.05], autopct='%1.1f%%',  startangle=90,shadow=True, figsize=(8,8))\n",
    "plt.title('Pie Chart for is_smoking')\n",
    "plt.show()"
   ]
  },
  {
   "cell_type": "markdown",
   "id": "thmTm8XIGxfN",
   "metadata": {
    "id": "thmTm8XIGxfN"
   },
   "source": [
    "The data set contains almost same no of smokers and non smokers"
   ]
  },
  {
   "cell_type": "code",
   "execution_count": null,
   "id": "5plvb2-_0YeA",
   "metadata": {
    "colab": {
     "base_uri": "https://localhost:8080/",
     "height": 294
    },
    "id": "5plvb2-_0YeA",
    "outputId": "3e4cb9e8-5387-4bc3-f600-6289d60fdf06"
   },
   "outputs": [],
   "source": [
    "# plotting graph for checking how many users are smoking or not and how it affects the target variable\n",
    "\n",
    "pd.crosstab(cardio_df['is_smoking'],cardio_df['cardio_risk']).plot(kind='bar')"
   ]
  },
  {
   "cell_type": "markdown",
   "id": "LUKa3-nfFcXX",
   "metadata": {
    "id": "LUKa3-nfFcXX"
   },
   "source": [
    "### Based on studies the smokers are 2 to 4 times more likely to get heart disease than nonsmokers.\n",
    "\n",
    "\n",
    "**Based on analysis cardiovascular risk dataset,we observed that the smoking slightly more  effective for cardiovascular risk then non smoker.**"
   ]
  },
  {
   "cell_type": "code",
   "execution_count": null,
   "id": "9fc67a0e",
   "metadata": {
    "colab": {
     "base_uri": "https://localhost:8080/",
     "height": 206
    },
    "id": "9fc67a0e",
    "outputId": "33259dee-63ac-4a93-e8a9-9b0134898492"
   },
   "outputs": [],
   "source": [
    "cardio_df.groupby([\"sex\",\"is_smoking\",\"cardio_risk\"])[\"cardio_risk\"].count().unstack('cardio_risk')"
   ]
  },
  {
   "cell_type": "code",
   "execution_count": null,
   "id": "ab90c3c9",
   "metadata": {
    "colab": {
     "base_uri": "https://localhost:8080/",
     "height": 327
    },
    "id": "ab90c3c9",
    "outputId": "ad6baf5f-6d29-4a25-b33d-afdc9a62ec79"
   },
   "outputs": [],
   "source": [
    "cardio_df.groupby([\"sex\",\"is_smoking\",\"cardio_risk\"])[\"cardio_risk\"].count().plot(kind='bar')"
   ]
  },
  {
   "cell_type": "markdown",
   "id": "SREkRd85D9tQ",
   "metadata": {
    "id": "SREkRd85D9tQ"
   },
   "source": [
    "here we can observe that male who smoke has higher risk of having cardiovascular risk than female who smoke.\n",
    "\n",
    "### cigsPerDay"
   ]
  },
  {
   "cell_type": "code",
   "execution_count": null,
   "id": "453209ef",
   "metadata": {
    "colab": {
     "base_uri": "https://localhost:8080/",
     "height": 282
    },
    "id": "453209ef",
    "outputId": "c21da24a-19f9-4c5a-c720-8d541f36cdbf"
   },
   "outputs": [],
   "source": [
    "cardio_df[\"cigsPerDay\"].plot(kind=\"hist\")"
   ]
  },
  {
   "cell_type": "code",
   "execution_count": null,
   "id": "eac50af9",
   "metadata": {
    "colab": {
     "base_uri": "https://localhost:8080/",
     "height": 369
    },
    "id": "eac50af9",
    "outputId": "1a47d61e-255c-41db-c5eb-7aa72a3f18a5"
   },
   "outputs": [],
   "source": [
    "# plotting graph for checking how no of cigrates per day used by person and how it affects the cardio_risk variable\n",
    "\n",
    "g=sns.factorplot('cigsPerDay','cardio_risk',kind='bar',\n",
    "                    data=cardio_df,hue='sex',aspect=4)\n",
    "\n",
    "g=g.set_ylabels(\"probability of cardio_risk based on no of cigsPerDay\")"
   ]
  },
  {
   "cell_type": "markdown",
   "id": "11b48478",
   "metadata": {
    "id": "11b48478"
   },
   "source": [
    "As we observed that people who don't smoke or use cigsperday less than 6  has less chance having risk of cardiovascular problem.\n",
    "But as no of cigsperday increases the cardiovascular risk also increase in males. females have less chance of in comparison with male.\n",
    "\n",
    "### age"
   ]
  },
  {
   "cell_type": "code",
   "execution_count": null,
   "id": "17108a60",
   "metadata": {
    "colab": {
     "base_uri": "https://localhost:8080/",
     "height": 638
    },
    "id": "17108a60",
    "outputId": "15074f67-9c8f-42f0-a8a6-9e906fae77fb"
   },
   "outputs": [],
   "source": [
    "# analyzing cardio_vascular risk over age \n",
    "plt.figure(figsize=[15,10])\n",
    "plt.title(\"Age based analysis of cardio_vascular risk\")\n",
    "sns.countplot(x='age', hue='cardio_risk', data=cardio_df, palette='colorblind')\n"
   ]
  },
  {
   "cell_type": "code",
   "execution_count": null,
   "id": "zagPn46nU5lD",
   "metadata": {
    "colab": {
     "base_uri": "https://localhost:8080/",
     "height": 530
    },
    "id": "zagPn46nU5lD",
    "outputId": "a16a77ff-2730-4b50-cd25-adab21aed8ab"
   },
   "outputs": [],
   "source": [
    "#plotting line plot for understanding distribution cardio_risk over age and cigsPerDay\n",
    "fig,ax=plt.subplots(figsize=(18,8))\n",
    "sns.lineplot(data=cardio_df,x='age',y='cigsPerDay',hue='cardio_risk',ax=ax)\n",
    "ax.set(title=' Distribution cardio_risk over age and cigsPerDay ')"
   ]
  },
  {
   "cell_type": "markdown",
   "id": "ac0bf125",
   "metadata": {
    "id": "ac0bf125"
   },
   "source": [
    "we observed that the Number of people with cardiovascular disease  risk lesser than the number of people withhout cardiovascular disease risk.But people with age greater than the 40 has higher chance of having cardiovascular risk.\n",
    "\n",
    "Age may matter for having higher chance but if the no. of cigrates per day decreases chance of having higher cardio_risk problem decreases.\n",
    "\n",
    "lets convert the age feature into bins"
   ]
  },
  {
   "cell_type": "code",
   "execution_count": null,
   "id": "wdvYq0TRz4lK",
   "metadata": {
    "colab": {
     "base_uri": "https://localhost:8080/",
     "height": 206
    },
    "id": "wdvYq0TRz4lK",
    "outputId": "322d68cc-d0a6-4470-e418-378ef6238b78"
   },
   "outputs": [],
   "source": [
    "#perform data binning on points variable with specific quantiles and labels\n",
    "bins = [30, 40, 50, 60, 70]\n",
    "labels = [\"30-40age\",\"40-50age\",\"50-60age\",\"60-70age\"]\n",
    "cardio_df['binned_age'] = pd.cut(cardio_df['age'], bins=bins, labels=labels)\n",
    "cardio_df.head()\n"
   ]
  },
  {
   "cell_type": "code",
   "execution_count": null,
   "id": "GwJ3Gb_c0Rmi",
   "metadata": {
    "colab": {
     "base_uri": "https://localhost:8080/"
    },
    "id": "GwJ3Gb_c0Rmi",
    "outputId": "fb52b2c4-36d7-41d1-dc8c-e52cb413f337"
   },
   "outputs": [],
   "source": [
    "cardio_df['binned_age'] .value_counts()"
   ]
  },
  {
   "cell_type": "code",
   "execution_count": null,
   "id": "R7_X2ypn0rfJ",
   "metadata": {
    "colab": {
     "base_uri": "https://localhost:8080/",
     "height": 206
    },
    "id": "R7_X2ypn0rfJ",
    "outputId": "8b8f0298-863d-455e-bf15-8c78b96486d9"
   },
   "outputs": [],
   "source": [
    "cardio_df.groupby([\"binned_age\",\"cardio_risk\"])[\"cardio_risk\"].count().unstack('cardio_risk')"
   ]
  },
  {
   "cell_type": "code",
   "execution_count": null,
   "id": "X65FMB0F15iG",
   "metadata": {
    "colab": {
     "base_uri": "https://localhost:8080/",
     "height": 297
    },
    "id": "X65FMB0F15iG",
    "outputId": "4475ffee-412b-49d1-fc7b-656009bc868b"
   },
   "outputs": [],
   "source": [
    "# analyzing cardio_vascular risk over age \n",
    "ax=sns.factorplot('binned_age','cardio_risk',kind='bar', data=cardio_df,size=4,aspect=2)\n",
    "ax=ax.set_ylabels(\"RISK Probability\")\n"
   ]
  },
  {
   "cell_type": "markdown",
   "id": "qsVcDNwj3hxz",
   "metadata": {
    "id": "qsVcDNwj3hxz"
   },
   "source": [
    "we observed from above analysis that people with age greater than 50 has higher chance of getting cardiovascular disease. "
   ]
  },
  {
   "cell_type": "code",
   "execution_count": null,
   "id": "_nZlQJKM04N4",
   "metadata": {
    "colab": {
     "base_uri": "https://localhost:8080/",
     "height": 331
    },
    "id": "_nZlQJKM04N4",
    "outputId": "dd79489a-0ae0-48a3-c71b-840c7b04bf0b"
   },
   "outputs": [],
   "source": [
    "cardio_df.groupby([\"binned_age\",\"sex\",\"cardio_risk\"])[\"cardio_risk\"].count().unstack('cardio_risk')"
   ]
  },
  {
   "cell_type": "code",
   "execution_count": null,
   "id": "zZCfk0d4z4-1",
   "metadata": {
    "colab": {
     "base_uri": "https://localhost:8080/",
     "height": 297
    },
    "id": "zZCfk0d4z4-1",
    "outputId": "6ae63e47-1665-4818-ff55-bca66c4fb701"
   },
   "outputs": [],
   "source": [
    "# analyzing cardio_vascular risk over age \n",
    "ax=sns.factorplot('binned_age','cardio_risk',kind='bar',hue=\"sex\", data=cardio_df,size=4,aspect=2)\n",
    "ax=ax.set_ylabels(\"RISK Probability\")"
   ]
  },
  {
   "cell_type": "markdown",
   "id": "BV4EBIrY4Emj",
   "metadata": {
    "id": "BV4EBIrY4Emj"
   },
   "source": [
    "Based on our observation, as people get older the risk of getting cardiovascular disease iis high male in comarison with female."
   ]
  },
  {
   "cell_type": "markdown",
   "id": "xypAUOS-1Hlk",
   "metadata": {
    "id": "xypAUOS-1Hlk"
   },
   "source": [
    "### Education\n"
   ]
  },
  {
   "cell_type": "code",
   "execution_count": null,
   "id": "5d2baf24",
   "metadata": {
    "colab": {
     "base_uri": "https://localhost:8080/"
    },
    "id": "5d2baf24",
    "outputId": "4be37f74-7186-4b23-8b2b-7f83693c598e"
   },
   "outputs": [],
   "source": [
    "cardio_df[\"education\"].value_counts()"
   ]
  },
  {
   "cell_type": "markdown",
   "id": "vUjZW0xKpd0i",
   "metadata": {
    "id": "vUjZW0xKpd0i"
   },
   "source": [
    "we observed that the people who completed their eduction level 1 is higher incount, than people who completed level 2(intermediate) or level 3(graduates) or level 4(post graduate)"
   ]
  },
  {
   "cell_type": "code",
   "execution_count": null,
   "id": "KOb9hAlE1aT8",
   "metadata": {
    "colab": {
     "base_uri": "https://localhost:8080/",
     "height": 373
    },
    "id": "KOb9hAlE1aT8",
    "outputId": "1d3215ac-24ae-4a89-89dd-bd5f63f56cee"
   },
   "outputs": [],
   "source": [
    "#Plotting pie chart of target variable\n",
    "f,ax=plt.subplots(1,2,figsize=(10,5)) \n",
    "cardio_df.groupby([\"education\",\"cardio_risk\"])[\"cardio_risk\"].count().unstack('cardio_risk').plot(kind=\"bar\",ax=ax[0])\n",
    "ax[0].set_title('is there any educational awareness')\n",
    "ax[0].set_ylabel('count')\n",
    "# count plot of education levels people having diseases\n",
    "sns.countplot(x ='cardio_risk', hue ='education', data = cardio_df,ax=ax[1])\n",
    "ax[1].set_title('is there any educational awareness')\n",
    "ax[1].set_ylabel('count')\n",
    "\n"
   ]
  },
  {
   "cell_type": "markdown",
   "id": "bcMMO03r8B7v",
   "metadata": {
    "id": "bcMMO03r8B7v"
   },
   "source": [
    "Education of people not much effective in creating awareness to reduce cardio vascular risk.so we can drop this .\n",
    "\n",
    "\n",
    "\n",
    "###'BPMeds' \n",
    " we can say that people with blood pressure medication"
   ]
  },
  {
   "cell_type": "code",
   "execution_count": null,
   "id": "EgmIMAM--b1g",
   "metadata": {
    "colab": {
     "base_uri": "https://localhost:8080/"
    },
    "id": "EgmIMAM--b1g",
    "outputId": "88eec702-2aa4-4795-cf86-f55a338e2867"
   },
   "outputs": [],
   "source": [
    "cardio_df[\"BPMeds\"].value_counts()"
   ]
  },
  {
   "cell_type": "code",
   "execution_count": null,
   "id": "-gcJaM5C-cta",
   "metadata": {
    "colab": {
     "base_uri": "https://localhost:8080/",
     "height": 350
    },
    "id": "-gcJaM5C-cta",
    "outputId": "cdde8f81-1cc0-4483-c6ef-d0552ff6d8de"
   },
   "outputs": [],
   "source": [
    "#Plotting pie chart of BPMeds variable\n",
    "f,ax=plt.subplots(1,2,figsize=(10,5))\n",
    "cardio_df['BPMeds'].value_counts().plot.pie(autopct='%1.1f%%',ax=ax[0],shadow=True)\n",
    "ax[0].set_title('BPMeds')\n",
    "ax[0].set_ylabel('')\n",
    "sns.countplot('BPMeds',data=cardio_df,ax=ax[1])\n",
    "ax[1].set_title('BPMeds')\n",
    "plt.show()\n"
   ]
  },
  {
   "cell_type": "code",
   "execution_count": null,
   "id": "WQ-GgPuE_vhk",
   "metadata": {
    "colab": {
     "base_uri": "https://localhost:8080/",
     "height": 143
    },
    "id": "WQ-GgPuE_vhk",
    "outputId": "76566e53-ffea-4ae8-b486-39d50f79f255"
   },
   "outputs": [],
   "source": [
    "cardio_df.groupby([\"BPMeds\",\"cardio_risk\"])[\"cardio_risk\"].count().unstack('cardio_risk')"
   ]
  },
  {
   "cell_type": "code",
   "execution_count": null,
   "id": "p4fHQq5_1YBU",
   "metadata": {
    "colab": {
     "base_uri": "https://localhost:8080/",
     "height": 530
    },
    "id": "p4fHQq5_1YBU",
    "outputId": "1a284d61-6966-48e1-ed79-c5a6402ab881"
   },
   "outputs": [],
   "source": [
    "plt.figure(figsize=(10,8))\n",
    "ax=sns.distplot(cardio_df[cardio_df['cardio_risk']==1].BPMeds,bins=10,label=\"high_risk\",color='b',kde=False)\n",
    "ax=sns.distplot(cardio_df[cardio_df['cardio_risk']==0].BPMeds,bins=10,label=\"no_risk\",color='r',kde=False)\n",
    "ax.legend()\n",
    "ax.set_title('BPMeds')"
   ]
  },
  {
   "cell_type": "markdown",
   "id": "Cvdmn4enB2s3",
   "metadata": {
    "id": "Cvdmn4enB2s3"
   },
   "source": [
    "#### People who is under madication has nearly 50%  chance of getting cardiovascular disease\n",
    "\n",
    "### **PrevalentStroke**\n",
    "\n",
    "It deal with  whether or not the patient had previously had a stroke"
   ]
  },
  {
   "cell_type": "code",
   "execution_count": null,
   "id": "zV7LzArkz-Tb",
   "metadata": {
    "colab": {
     "base_uri": "https://localhost:8080/"
    },
    "id": "zV7LzArkz-Tb",
    "outputId": "46d99431-25d6-430b-e771-5b0ea419e571"
   },
   "outputs": [],
   "source": [
    "cardio_df[\"prevalentStroke\"].value_counts()"
   ]
  },
  {
   "cell_type": "code",
   "execution_count": null,
   "id": "yTMfW6-oz-Wd",
   "metadata": {
    "colab": {
     "base_uri": "https://localhost:8080/",
     "height": 350
    },
    "id": "yTMfW6-oz-Wd",
    "outputId": "69681acc-9207-470f-e8d0-b455cdbecc5c"
   },
   "outputs": [],
   "source": [
    "#Plotting pie chart of prevalentStroke variable\n",
    "f,ax=plt.subplots(1,2,figsize=(10,5))\n",
    "cardio_df['prevalentStroke'].value_counts().plot.pie(autopct='%1.1f%%',ax=ax[0],shadow=True)\n",
    "ax[0].set_title('prevalentStroke')\n",
    "ax[0].set_ylabel('')\n",
    "sns.countplot('prevalentStroke',data=cardio_df,ax=ax[1])\n",
    "ax[1].set_title('prevalentStroke')\n",
    "plt.show()\n"
   ]
  },
  {
   "cell_type": "code",
   "execution_count": null,
   "id": "Ee6Z0baTDTkv",
   "metadata": {
    "colab": {
     "base_uri": "https://localhost:8080/",
     "height": 143
    },
    "id": "Ee6Z0baTDTkv",
    "outputId": "0217a960-82f8-4351-9252-1f754697bcda"
   },
   "outputs": [],
   "source": [
    "cardio_df.groupby([\"prevalentStroke\",\"cardio_risk\"])[\"cardio_risk\"].count().unstack('cardio_risk')"
   ]
  },
  {
   "cell_type": "code",
   "execution_count": null,
   "id": "Z1asjc0ZDThO",
   "metadata": {
    "colab": {
     "base_uri": "https://localhost:8080/",
     "height": 530
    },
    "id": "Z1asjc0ZDThO",
    "outputId": "64d15914-eefa-4afd-9156-a619532d33e8"
   },
   "outputs": [],
   "source": [
    "plt.figure(figsize=(10,8))\n",
    "ax=sns.distplot(cardio_df[cardio_df['cardio_risk']==1].prevalentStroke,bins=10,label=\"high_risk\",color='b',kde=False)\n",
    "ax=sns.distplot(cardio_df[cardio_df['cardio_risk']==0].prevalentStroke,bins=10,label=\"no_risk\",color='r',kde=False)\n",
    "ax.legend()\n",
    "ax.set_title('prevalentStroke')"
   ]
  },
  {
   "cell_type": "markdown",
   "id": "KOKAq1gMFERB",
   "metadata": {
    "id": "KOKAq1gMFERB"
   },
   "source": [
    "Even if patient has got stroke earlier there is 40-50% chance getting cardiovascular disease risk. \n",
    "# we can drop this feature\n",
    "\n",
    "### PrevalentHyp"
   ]
  },
  {
   "cell_type": "code",
   "execution_count": null,
   "id": "X4LsrXZBDTeW",
   "metadata": {
    "colab": {
     "base_uri": "https://localhost:8080/"
    },
    "id": "X4LsrXZBDTeW",
    "outputId": "d57775c5-925f-4b8c-92f1-ebab58add62b"
   },
   "outputs": [],
   "source": [
    "cardio_df[\"prevalentHyp\"].value_counts()"
   ]
  },
  {
   "cell_type": "code",
   "execution_count": null,
   "id": "s_o5l4KpDTar",
   "metadata": {
    "colab": {
     "base_uri": "https://localhost:8080/",
     "height": 350
    },
    "id": "s_o5l4KpDTar",
    "outputId": "b08a1c52-1486-4d66-9696-152e42d574f2"
   },
   "outputs": [],
   "source": [
    "#Plotting pie chart of target variable\n",
    "f,ax=plt.subplots(1,2,figsize=(10,5))\n",
    "cardio_df['prevalentHyp'].value_counts().plot.pie(autopct='%1.1f%%',ax=ax[0],shadow=True)\n",
    "ax[0].set_title('prevalentHyp')\n",
    "ax[0].set_ylabel('')\n",
    "sns.countplot('prevalentHyp',data=cardio_df,ax=ax[1])\n",
    "ax[1].set_title('prevalentHyp')\n",
    "plt.show()"
   ]
  },
  {
   "cell_type": "code",
   "execution_count": null,
   "id": "uklUXrOJGLTw",
   "metadata": {
    "colab": {
     "base_uri": "https://localhost:8080/",
     "height": 143
    },
    "id": "uklUXrOJGLTw",
    "outputId": "eff46829-e1fb-4131-d709-a8ca55e6577c"
   },
   "outputs": [],
   "source": [
    "cardio_df.groupby([\"prevalentHyp\",\"cardio_risk\"])[\"cardio_risk\"].count().unstack('cardio_risk')"
   ]
  },
  {
   "cell_type": "code",
   "execution_count": null,
   "id": "7-gF1JhSGPuB",
   "metadata": {
    "colab": {
     "base_uri": "https://localhost:8080/",
     "height": 530
    },
    "id": "7-gF1JhSGPuB",
    "outputId": "2d2addcb-782a-4aaa-8c25-4b783fd7fcb5"
   },
   "outputs": [],
   "source": [
    "plt.figure(figsize=(10,8))\n",
    "ax=sns.distplot(cardio_df[cardio_df['cardio_risk']==1].prevalentHyp,bins=10,label=\"high_risk\",color='b',kde=False)\n",
    "ax=sns.distplot(cardio_df[cardio_df['cardio_risk']==0].prevalentHyp,bins=10,label=\"no_risk\",color='r',kde=False)\n",
    "ax.legend()\n",
    "ax.set_title('prevalentHyp')"
   ]
  },
  {
   "cell_type": "markdown",
   "id": "b813P9hvG9LS",
   "metadata": {
    "id": "b813P9hvG9LS"
   },
   "source": [
    "## 'diabetes'"
   ]
  },
  {
   "cell_type": "code",
   "execution_count": null,
   "id": "rzBLcGFyDTSn",
   "metadata": {
    "colab": {
     "base_uri": "https://localhost:8080/"
    },
    "id": "rzBLcGFyDTSn",
    "outputId": "42f8554d-2c2e-455d-9016-ebd9061c2b35"
   },
   "outputs": [],
   "source": [
    "cardio_df['diabetes'].value_counts()"
   ]
  },
  {
   "cell_type": "code",
   "execution_count": null,
   "id": "2IL-Bb_FDTEI",
   "metadata": {
    "colab": {
     "base_uri": "https://localhost:8080/",
     "height": 350
    },
    "id": "2IL-Bb_FDTEI",
    "outputId": "e300f2c7-4060-496f-f8f3-322563c675c2"
   },
   "outputs": [],
   "source": [
    "#Plotting pie chart of target variable\n",
    "f,ax=plt.subplots(1,2,figsize=(10,5))\n",
    "cardio_df['diabetes'].value_counts().plot.pie(autopct='%1.1f%%',ax=ax[0],shadow=True)\n",
    "ax[0].set_title('diabetes')\n",
    "ax[0].set_ylabel('')\n",
    "sns.countplot('diabetes',data=cardio_df,ax=ax[1])\n",
    "ax[1].set_title('diabetes')\n",
    "plt.show()"
   ]
  },
  {
   "cell_type": "code",
   "execution_count": null,
   "id": "bx4J6Px0DTAi",
   "metadata": {
    "colab": {
     "base_uri": "https://localhost:8080/",
     "height": 143
    },
    "id": "bx4J6Px0DTAi",
    "outputId": "6e3949a5-591f-46aa-b94b-e0f3c5a0f2c1"
   },
   "outputs": [],
   "source": [
    "cardio_df.groupby(['diabetes',\"cardio_risk\"])[\"cardio_risk\"].count().unstack('cardio_risk')"
   ]
  },
  {
   "cell_type": "code",
   "execution_count": null,
   "id": "ABxA5LMtGwvO",
   "metadata": {
    "colab": {
     "base_uri": "https://localhost:8080/",
     "height": 530
    },
    "id": "ABxA5LMtGwvO",
    "outputId": "182fcc93-470d-4f44-a6a3-6e368675ba2c"
   },
   "outputs": [],
   "source": [
    "plt.figure(figsize=(10,8))\n",
    "ax=sns.distplot(cardio_df[cardio_df['cardio_risk']==1].diabetes,bins=10,label=\"high_risk\",color='b',kde=False)\n",
    "ax=sns.distplot(cardio_df[cardio_df['cardio_risk']==0].diabetes,bins=10,label=\"no_risk\",color='r',kde=False)\n",
    "ax.legend()\n",
    "ax.set_title('diabetes')"
   ]
  },
  {
   "cell_type": "markdown",
   "id": "dgtunI5ljD9l",
   "metadata": {
    "id": "dgtunI5ljD9l"
   },
   "source": [
    "### totChol"
   ]
  },
  {
   "cell_type": "code",
   "execution_count": null,
   "id": "ucIxXh4MRIFi",
   "metadata": {
    "colab": {
     "base_uri": "https://localhost:8080/"
    },
    "id": "ucIxXh4MRIFi",
    "outputId": "d3771164-5bb2-4b28-fbcb-c6f979055e3d"
   },
   "outputs": [],
   "source": [
    "cardio_df['totChol'].value_counts()"
   ]
  },
  {
   "cell_type": "code",
   "execution_count": null,
   "id": "rj6YbDGNRH1m",
   "metadata": {
    "colab": {
     "base_uri": "https://localhost:8080/",
     "height": 530
    },
    "id": "rj6YbDGNRH1m",
    "outputId": "0db0890c-a0da-4d85-cb58-50f9c7e80d44"
   },
   "outputs": [],
   "source": [
    "plt.figure(figsize=(10,8))\n",
    "ax=sns.distplot(cardio_df[cardio_df['cardio_risk']==1].totChol,bins=20,label=\"high_risk\",color='b',kde=False)\n",
    "ax=sns.distplot(cardio_df[cardio_df['cardio_risk']==0].totChol,bins=20,label=\"no_risk\",color='r',kde=False)\n",
    "ax.legend()\n",
    "ax.set_title('totChol')"
   ]
  },
  {
   "cell_type": "code",
   "execution_count": null,
   "id": "rmDremfzXOov",
   "metadata": {
    "colab": {
     "base_uri": "https://localhost:8080/",
     "height": 606
    },
    "id": "rmDremfzXOov",
    "outputId": "7fe1bc9d-85f9-43ae-bc1a-eff8858e21d2"
   },
   "outputs": [],
   "source": [
    "#plotting the box plot to vizualize the data distribution of cardio_risk and totChol\n",
    "plt.figure(figsize=(10,10))\n",
    "ax = sns.boxplot(x=\"cardio_risk\", y=\"totChol\", data=cardio_df,palette=\"Set2\")"
   ]
  },
  {
   "cell_type": "markdown",
   "id": "NEAm-Z91i6RF",
   "metadata": {
    "id": "NEAm-Z91i6RF"
   },
   "source": [
    "### BMI"
   ]
  },
  {
   "cell_type": "code",
   "execution_count": null,
   "id": "pAm3r12rRa4z",
   "metadata": {
    "colab": {
     "base_uri": "https://localhost:8080/"
    },
    "id": "pAm3r12rRa4z",
    "outputId": "ef40d409-71ae-45fa-827a-75555d4b0a34"
   },
   "outputs": [],
   "source": [
    "cardio_df['BMI'].value_counts()"
   ]
  },
  {
   "cell_type": "code",
   "execution_count": null,
   "id": "gIqrx1QNRirg",
   "metadata": {
    "colab": {
     "base_uri": "https://localhost:8080/",
     "height": 530
    },
    "id": "gIqrx1QNRirg",
    "outputId": "484b91fd-200f-4001-eb7b-05c2bd33738d"
   },
   "outputs": [],
   "source": [
    "plt.figure(figsize=(10,8))\n",
    "ax=sns.distplot(cardio_df[cardio_df['cardio_risk']==1].BMI,bins=20,label=\"high_risk\",color='b',kde=False)\n",
    "ax=sns.distplot(cardio_df[cardio_df['cardio_risk']==0].BMI,bins=20,label=\"no_risk\",color='r',kde=False)\n",
    "ax.legend()\n",
    "ax.set_title('BMI')\n"
   ]
  },
  {
   "cell_type": "code",
   "execution_count": null,
   "id": "42QDl4R3SMXy",
   "metadata": {
    "colab": {
     "base_uri": "https://localhost:8080/",
     "height": 606
    },
    "id": "42QDl4R3SMXy",
    "outputId": "0076c893-4902-418e-92b4-8a7f965d32e2"
   },
   "outputs": [],
   "source": [
    "#plotting the box plot to vizualize the data distribution of cardio_risk and BMI\n",
    "plt.figure(figsize=(10,10))\n",
    "ax = sns.boxplot(x=\"cardio_risk\", y=\"BMI\", data=cardio_df,palette=\"Set2\")"
   ]
  },
  {
   "cell_type": "markdown",
   "id": "snfiONwBim7h",
   "metadata": {
    "id": "snfiONwBim7h"
   },
   "source": [
    "### HeartRate"
   ]
  },
  {
   "cell_type": "code",
   "execution_count": null,
   "id": "2uocE1qbSMbQ",
   "metadata": {
    "colab": {
     "base_uri": "https://localhost:8080/"
    },
    "id": "2uocE1qbSMbQ",
    "outputId": "7b6451dc-250c-49ee-c38b-e07ceaa99f26"
   },
   "outputs": [],
   "source": [
    "cardio_df['heartRate'].value_counts()"
   ]
  },
  {
   "cell_type": "code",
   "execution_count": null,
   "id": "SQCDkEV7SQIw",
   "metadata": {
    "colab": {
     "base_uri": "https://localhost:8080/",
     "height": 530
    },
    "id": "SQCDkEV7SQIw",
    "outputId": "881a9aae-dd16-467d-f478-6170a690de6d"
   },
   "outputs": [],
   "source": [
    "plt.figure(figsize=(10,8))\n",
    "ax=sns.distplot(cardio_df[cardio_df['cardio_risk']==1].heartRate,bins=20,label=\"high_risk\",color='b',kde=False)\n",
    "ax=sns.distplot(cardio_df[cardio_df['cardio_risk']==0].heartRate,bins=20,label=\"no_risk\",color='r',kde=False)\n",
    "ax.legend()\n",
    "ax.set_title('heartRate')\n"
   ]
  },
  {
   "cell_type": "code",
   "execution_count": null,
   "id": "JBj9T5ixSQMk",
   "metadata": {
    "colab": {
     "base_uri": "https://localhost:8080/",
     "height": 606
    },
    "id": "JBj9T5ixSQMk",
    "outputId": "e4c1ccf5-5d45-4ba9-e4d9-de13b03d492e"
   },
   "outputs": [],
   "source": [
    "#plotting the box plot to vizualize the data distribution of cardio_risk and heartrate\n",
    "plt.figure(figsize=(10,10))\n",
    "ax = sns.boxplot(x=\"cardio_risk\", y=\"heartRate\", data=cardio_df,palette=\"Set2\")"
   ]
  },
  {
   "cell_type": "markdown",
   "id": "a4ApFZL_isQz",
   "metadata": {
    "id": "a4ApFZL_isQz"
   },
   "source": [
    "### Glucose"
   ]
  },
  {
   "cell_type": "code",
   "execution_count": null,
   "id": "xTzdNpn4SMes",
   "metadata": {
    "colab": {
     "base_uri": "https://localhost:8080/"
    },
    "id": "xTzdNpn4SMes",
    "outputId": "6df37ac0-75c5-480f-c021-761766d27e25"
   },
   "outputs": [],
   "source": [
    "cardio_df['glucose'].value_counts()"
   ]
  },
  {
   "cell_type": "code",
   "execution_count": null,
   "id": "zhoUc3fQSTnc",
   "metadata": {
    "colab": {
     "base_uri": "https://localhost:8080/",
     "height": 530
    },
    "id": "zhoUc3fQSTnc",
    "outputId": "2b60ce7e-4932-4a5c-9b0d-7ec3eff32f0b"
   },
   "outputs": [],
   "source": [
    "plt.figure(figsize=(10,8))\n",
    "ax=sns.distplot(cardio_df[cardio_df['cardio_risk']==1].glucose,bins=20,label=\"high_risk\",color='b',kde=False)\n",
    "ax=sns.distplot(cardio_df[cardio_df['cardio_risk']==0].glucose,bins=20,label=\"no_risk\",color='r',kde=False)\n",
    "ax.legend()\n",
    "ax.set_title('glucose')\n"
   ]
  },
  {
   "cell_type": "code",
   "execution_count": null,
   "id": "pgPOuurgc1oL",
   "metadata": {
    "colab": {
     "base_uri": "https://localhost:8080/",
     "height": 606
    },
    "id": "pgPOuurgc1oL",
    "outputId": "8a79b974-4b99-4b75-a359-356f3a2e74c6"
   },
   "outputs": [],
   "source": [
    "#plotting the box plot to vizualize the data distribution of cardio_risk and glucose\n",
    "plt.figure(figsize=(10,10))\n",
    "ax = sns.boxplot(x=\"cardio_risk\", y=\"glucose\", data=cardio_df,palette=\"Set1\")"
   ]
  },
  {
   "cell_type": "markdown",
   "id": "l_nCLrTWiwM9",
   "metadata": {
    "id": "l_nCLrTWiwM9"
   },
   "source": [
    "### sysBP"
   ]
  },
  {
   "cell_type": "code",
   "execution_count": null,
   "id": "avLDHS2TSTj_",
   "metadata": {
    "colab": {
     "base_uri": "https://localhost:8080/"
    },
    "id": "avLDHS2TSTj_",
    "outputId": "3194c045-b9b8-4b18-aeaf-e7b2bd6e6661"
   },
   "outputs": [],
   "source": [
    "cardio_df['sysBP'].value_counts()"
   ]
  },
  {
   "cell_type": "code",
   "execution_count": null,
   "id": "QmVPmAaofR5s",
   "metadata": {
    "colab": {
     "base_uri": "https://localhost:8080/",
     "height": 530
    },
    "id": "QmVPmAaofR5s",
    "outputId": "7daaf72c-7fc2-4b0c-8a47-b98dd7da3fc6"
   },
   "outputs": [],
   "source": [
    "plt.figure(figsize=(10,8))\n",
    "ax=sns.distplot(cardio_df[cardio_df['cardio_risk']==1].sysBP,bins=20,label=\"high_risk\",color='b',kde=False)\n",
    "ax=sns.distplot(cardio_df[cardio_df['cardio_risk']==0].sysBP,bins=20,label=\"no_risk\",color='r',kde=False)\n",
    "ax.legend()\n",
    "ax.set_title('sysBP')"
   ]
  },
  {
   "cell_type": "code",
   "execution_count": null,
   "id": "q-bdZ1AqdAW2",
   "metadata": {
    "colab": {
     "base_uri": "https://localhost:8080/",
     "height": 606
    },
    "id": "q-bdZ1AqdAW2",
    "outputId": "f4745ca5-8a60-4bf0-90d1-393037516bea"
   },
   "outputs": [],
   "source": [
    "#plotting the box plot to vizualize the data distribution of cardio_risk and sysBP\n",
    "plt.figure(figsize=(10,10))\n",
    "ax = sns.boxplot(x=\"cardio_risk\", y=\"sysBP\", data=cardio_df,palette=\"Set3\")"
   ]
  },
  {
   "cell_type": "markdown",
   "id": "5gKUag7si03A",
   "metadata": {
    "id": "5gKUag7si03A"
   },
   "source": [
    "### diaBP"
   ]
  },
  {
   "cell_type": "code",
   "execution_count": null,
   "id": "7aifTeoSfOvz",
   "metadata": {
    "colab": {
     "base_uri": "https://localhost:8080/"
    },
    "id": "7aifTeoSfOvz",
    "outputId": "22cad05d-c998-49b5-a04d-034bfd4c1db1"
   },
   "outputs": [],
   "source": [
    "cardio_df['diaBP'].value_counts()"
   ]
  },
  {
   "cell_type": "code",
   "execution_count": null,
   "id": "nMd_jyE1fVRX",
   "metadata": {
    "colab": {
     "base_uri": "https://localhost:8080/",
     "height": 530
    },
    "id": "nMd_jyE1fVRX",
    "outputId": "40197838-128b-4cda-b6aa-f76ca22b8f9b"
   },
   "outputs": [],
   "source": [
    "plt.figure(figsize=(10,8))\n",
    "ax=sns.distplot(cardio_df[cardio_df['cardio_risk']==1].diaBP,bins=20,label=\"high_risk\",color='b',kde=False)\n",
    "ax=sns.distplot(cardio_df[cardio_df['cardio_risk']==0].diaBP,bins=20,label=\"no_risk\",color='r',kde=False)\n",
    "ax.legend()\n",
    "ax.set_title('diaBP')"
   ]
  },
  {
   "cell_type": "code",
   "execution_count": null,
   "id": "hakMDAEgdS8V",
   "metadata": {
    "colab": {
     "base_uri": "https://localhost:8080/",
     "height": 606
    },
    "id": "hakMDAEgdS8V",
    "outputId": "ed75a881-01fb-4099-9faf-ac9124efdd22"
   },
   "outputs": [],
   "source": [
    "#plotting the box plot to vizualize the data distribution of cardio_risk and diaBP\n",
    "plt.figure(figsize=(10,10))\n",
    "ax = sns.boxplot(x=\"cardio_risk\", y=\"diaBP\", data=cardio_df,palette=\"Set3\")"
   ]
  },
  {
   "cell_type": "code",
   "execution_count": null,
   "id": "-3qFUBi2kdtw",
   "metadata": {
    "id": "-3qFUBi2kdtw"
   },
   "outputs": [],
   "source": [
    "#droping columns which doesnot add value to following process\n",
    "cardio_df.drop(columns=[\"binned_age\",\"id\"],axis=1,inplace=True)"
   ]
  },
  {
   "cell_type": "markdown",
   "id": "8DbuXlH6jLQ_",
   "metadata": {
    "id": "8DbuXlH6jLQ_"
   },
   "source": [
    "### Outlier/Anamoly detection"
   ]
  },
  {
   "cell_type": "code",
   "execution_count": null,
   "id": "Pl6bp14az-bs",
   "metadata": {
    "colab": {
     "base_uri": "https://localhost:8080/"
    },
    "id": "Pl6bp14az-bs",
    "outputId": "60532df0-db36-4405-8714-a086b96979c5"
   },
   "outputs": [],
   "source": [
    "### Univarient analysis  of continuous variables\n",
    "# Lets check the discrete and continuous features\n",
    "categorical_features = [i for i in cardio_df.columns if cardio_df[i].nunique()<=10]\n",
    "continuous_features = [i for i in cardio_df.columns if i not in categorical_features and i!=\"id\"]\n",
    "print(\"continuous feature columns \\n\")\n",
    "print(continuous_features)\n"
   ]
  },
  {
   "cell_type": "code",
   "execution_count": null,
   "id": "jK7WiRAMz-em",
   "metadata": {
    "colab": {
     "base_uri": "https://localhost:8080/",
     "height": 1000
    },
    "id": "jK7WiRAMz-em",
    "outputId": "15962e96-9b7b-4bea-a9ab-c8278be463e7"
   },
   "outputs": [],
   "source": [
    "#ploting boxplot and distplot to check data distribution of each numerical column\n",
    "for var in continuous_features:\n",
    "    plt.figure(figsize=(15,6))\n",
    "    plt.subplot(1, 2, 1)\n",
    "    fig = sns.boxplot(y=cardio_df[var])\n",
    "    fig.set_title(var)\n",
    "    fig.set_ylabel(var)\n",
    "    \n",
    "    plt.subplot(1, 2, 2)\n",
    "    fig = sns.distplot(cardio_df[var])\n",
    "    plt.axvline(cardio_df[var].mean(), color='red', linestyle='dashed', linewidth=2)\n",
    "    plt.axvline(cardio_df[var].median(), color='blue', linestyle='dashed', linewidth=2)\n",
    "    fig.set_title(var)\n",
    "    fig.set_ylabel('count')\n",
    "    fig.set_xlabel(var)\n",
    "\n",
    "    plt.show()"
   ]
  },
  {
   "cell_type": "code",
   "execution_count": null,
   "id": "ufdPa2eOjfyB",
   "metadata": {
    "colab": {
     "base_uri": "https://localhost:8080/"
    },
    "id": "ufdPa2eOjfyB",
    "outputId": "0ee2a354-d717-4787-ae88-32bf9ca2a9e7"
   },
   "outputs": [],
   "source": [
    "#checking skewness of each feature\n",
    "print(\"skewness of the numerical column distribution is as follows:\\n\")\n",
    "for var in continuous_features:\n",
    "     print(f'{var} has skewness ...........  {round(cardio_df[var].skew(),3)}')"
   ]
  },
  {
   "cell_type": "markdown",
   "id": "zrfVaofjmRZO",
   "metadata": {
    "id": "zrfVaofjmRZO"
   },
   "source": [
    "here we observed that the glucose feature suffer from skewness i.e that occured due to precence of outliers. But we cannot drop these outlier because some people may has got high level of glucose  this may increase their cardiovascular problem.\n",
    "\n",
    "feature with outliers:"
   ]
  },
  {
   "cell_type": "code",
   "execution_count": null,
   "id": "BxJaLxYwqDqo",
   "metadata": {
    "id": "BxJaLxYwqDqo"
   },
   "outputs": [],
   "source": [
    "feature_with_outlier=[\"BMI\",\"heartRate\",\"glucose\",\"diaBP\",\"sysBP\",\"totChol\",\"cigsPerDay\"]"
   ]
  },
  {
   "cell_type": "code",
   "execution_count": null,
   "id": "9r9SNx4mqxmQ",
   "metadata": {
    "id": "9r9SNx4mqxmQ"
   },
   "outputs": [],
   "source": [
    "# Removing outliers by standard methods and Plotting graphs:\n",
    "for col in feature_with_outlier:\n",
    "  # Using IQR method to define the range of inliners:\n",
    "  q1, q3, median = cardio_df[col].quantile([0.25,0.75,0.5])\n",
    "  lower_limit = q1 - 1.5*(q3-q1)\n",
    "  upper_limit = q3 + 1.5*(q3-q1)\n",
    "\n",
    "  # Replacing Outliers with median value\n",
    "  cardio_df[col] = np.where(cardio_df[col] > upper_limit, median,np.where(cardio_df[col] < lower_limit,median,cardio_df[col]))"
   ]
  },
  {
   "cell_type": "code",
   "execution_count": null,
   "id": "cTtyJKb_uP_B",
   "metadata": {
    "colab": {
     "base_uri": "https://localhost:8080/",
     "height": 1000
    },
    "id": "cTtyJKb_uP_B",
    "outputId": "15eddaf1-21f8-4f80-fc62-a6f0cb982353"
   },
   "outputs": [],
   "source": [
    "#ploting boxplot and distplot to check data distribution of each numerical column after outlier treatment\n",
    "for var in continuous_features:\n",
    "    plt.figure(figsize=(15,6))\n",
    "    plt.subplot(1, 2, 1)\n",
    "    fig = sns.boxplot(y=cardio_df[var])\n",
    "    fig.set_title(var)\n",
    "    fig.set_ylabel(var)\n",
    "    \n",
    "    plt.subplot(1, 2, 2)\n",
    "    fig = sns.distplot(cardio_df[var])\n",
    "    plt.axvline(cardio_df[var].mean(), color='red', linestyle='dashed', linewidth=2)\n",
    "    plt.axvline(cardio_df[var].median(), color='blue', linestyle='dashed', linewidth=2)\n",
    "    fig.set_title(var)\n",
    "    fig.set_ylabel('count')\n",
    "    fig.set_xlabel(var)\n",
    "\n",
    "    plt.show()"
   ]
  },
  {
   "cell_type": "code",
   "execution_count": null,
   "id": "HLo7cQsLuq9c",
   "metadata": {
    "colab": {
     "base_uri": "https://localhost:8080/"
    },
    "id": "HLo7cQsLuq9c",
    "outputId": "d993b358-f3d3-4334-d418-97d58d8343c1"
   },
   "outputs": [],
   "source": [
    "#checking skewness of each feature after outlier treatment\n",
    "print(\"skewness of the numerical column distribution is as follows:\\n\")\n",
    "for var in continuous_features:\n",
    "     print(f'{var} has skewness ...........  {round(cardio_df[var].skew(),3)}')"
   ]
  },
  {
   "cell_type": "markdown",
   "id": "7xjRg7rk1-Po",
   "metadata": {
    "id": "7xjRg7rk1-Po"
   },
   "source": [
    "checking multicolinearity between all independent feature and target variable\n",
    "\n",
    "1.Using pair plot"
   ]
  },
  {
   "cell_type": "code",
   "execution_count": null,
   "id": "1d2T3ezM1ldJ",
   "metadata": {
    "colab": {
     "base_uri": "https://localhost:8080/",
     "height": 1000
    },
    "id": "1d2T3ezM1ldJ",
    "outputId": "bf903da1-2040-40af-ff84-6f80e49d5119"
   },
   "outputs": [],
   "source": [
    "#pairplot\n",
    "sns.pairplot(cardio_df)"
   ]
  },
  {
   "cell_type": "code",
   "execution_count": null,
   "id": "eiWRGXijAGT2",
   "metadata": {
    "id": "eiWRGXijAGT2"
   },
   "outputs": [],
   "source": [
    "##drop feature education\n",
    "cardio_df.drop(columns=[\"education\"],axis=1,inplace=True)"
   ]
  },
  {
   "cell_type": "markdown",
   "id": "vC7_df2cpUxJ",
   "metadata": {
    "id": "vC7_df2cpUxJ"
   },
   "source": [
    "2.using correlation metrics"
   ]
  },
  {
   "cell_type": "code",
   "execution_count": null,
   "id": "CIWra5MIp8mp",
   "metadata": {
    "colab": {
     "base_uri": "https://localhost:8080/",
     "height": 519
    },
    "id": "CIWra5MIp8mp",
    "outputId": "084e6629-3434-45b7-d2be-f1e7f75ce9f3"
   },
   "outputs": [],
   "source": [
    "#correlation matrix for each numerical feature using \".corr()\"\n",
    "corr_matrix= round(cardio_df.corr(),3)\n",
    "corr_matrix"
   ]
  },
  {
   "cell_type": "code",
   "execution_count": null,
   "id": "R_Qp520Gp8qu",
   "metadata": {
    "colab": {
     "base_uri": "https://localhost:8080/",
     "height": 911
    },
    "id": "R_Qp520Gp8qu",
    "outputId": "f6f82cc0-1bcd-4b6c-ba24-9c7213bad8e8"
   },
   "outputs": [],
   "source": [
    "#visualization using heatmap\n",
    "sns.set(rc={'figure.figsize':(20,14)})\n",
    "matrix = np.triu(corr_matrix)\n",
    "sns.heatmap(corr_matrix, annot=True, cmap=\"Greens\")"
   ]
  },
  {
   "cell_type": "code",
   "execution_count": null,
   "id": "mg66dEO83CUH",
   "metadata": {
    "colab": {
     "base_uri": "https://localhost:8080/"
    },
    "id": "mg66dEO83CUH",
    "outputId": "d2e64ece-dcb6-4142-bb09-2d8370846903"
   },
   "outputs": [],
   "source": [
    "# Find out the Fields with high correlation\n",
    "\n",
    "correlated_features = set()\n",
    "for i in range(len(corr_matrix.columns)):\n",
    "    for j in range(i):\n",
    "        if abs(corr_matrix.iloc[i, j]) > 0.7:\n",
    "            colname1 = corr_matrix.columns[i]\n",
    "            colname2 = corr_matrix.columns[j]\n",
    "            print(abs(corr_matrix.iloc[i, j]), \"--\", i, '--', j, '--', colname1, '--', colname2)\n",
    "            correlated_features.add(colname1)\n",
    "            correlated_features.add(colname2)"
   ]
  },
  {
   "cell_type": "markdown",
   "id": "RbJdU1CR43ZM",
   "metadata": {
    "id": "RbJdU1CR43ZM"
   },
   "source": [
    "#### **👉Here we can see that glucose,heartrate are not significantly correlated with cardio risk. so  we can drop these feature.**\n",
    "### **👉cigsPerDay -- is_smoking  where cigsPerDay- no of cigrates per day and is_smoking - is smoking are highly correlated with each other** \n",
    "\n",
    "\n",
    "###**👉\"diaBP\" and \"sysBP\" are highly correlated**\n",
    "where\n",
    "diaBP is Diastolic Pressure\n",
    "sysBP is Systolic Pressure\n"
   ]
  },
  {
   "cell_type": "markdown",
   "id": "ZvI3AkUH2Zbb",
   "metadata": {
    "id": "ZvI3AkUH2Zbb"
   },
   "source": [
    "### What is VIF?\n",
    "A variance inflation factor(VIF) detects multicollinearity in regression analysis. Multicollinearity is when there’s correlation between predictors (i.e. independent variables) in a model; it’s presence can adversely affect your regression results. The VIF estimates how much the variance of a regression coefficient is inflated due to multicollinearity in the model.\n",
    "\n",
    "A rule of thumb for interpreting the variance inflation factor:\n",
    "\n",
    "👉 1 = not correlated.\n",
    "\n",
    "👉 Between 1 and 5 = moderately correlated.\n",
    "\n",
    "👉 Greater than 5 = highly correlated.\n",
    "\n",
    "\n",
    " from above analysis cigsPerDay and is_smoking is highly correlated with each other and diaBP and  sysBP are also highly correlated with each other"
   ]
  },
  {
   "cell_type": "code",
   "execution_count": null,
   "id": "X98K5rOUp8ur",
   "metadata": {
    "id": "X98K5rOUp8ur"
   },
   "outputs": [],
   "source": [
    "#Multicollinearity\n",
    "\n",
    "def calc_vif(X):\n",
    "\n",
    "    # Calculating VIF\n",
    "    vif = pd.DataFrame()\n",
    "    vif[\"variables\"] = X.columns\n",
    "    vif[\"VIF\"] = [variance_inflation_factor(X.values, i) for i in range(X.shape[1])]\n",
    "\n",
    "    return(vif.sort_values(by='VIF',ascending=False).reset_index(drop=True))"
   ]
  },
  {
   "cell_type": "code",
   "execution_count": null,
   "id": "qCez8T9H2XJ7",
   "metadata": {
    "colab": {
     "base_uri": "https://localhost:8080/",
     "height": 300
    },
    "id": "qCez8T9H2XJ7",
    "outputId": "69af570a-f84f-4710-cdfd-fdd85274698a"
   },
   "outputs": [],
   "source": [
    "#applying vif for each feature\n",
    "#Calc_vif(cardio_df[[i for i in cardio_df.describe().columns if i not in [\"glucose\",\"heartRate\",\"diaBP\",\"sysBP\",\"40-50age\",\"BMI\"]]])\n",
    "calc_vif(cardio_df[[i for i in cardio_df.describe().columns if i not in [\"cardio_risk\",\" \",\"diaBP\",\"sysBP\",\"glucose\",\"heartRate\",\"totChol\",\"BMI\"]]])#\"diaBP\",\"sysBP\",\"40-50age\",\"BMI\"]]])"
   ]
  },
  {
   "cell_type": "markdown",
   "id": "NrODAlv3_JCy",
   "metadata": {
    "id": "NrODAlv3_JCy"
   },
   "source": []
  },
  {
   "cell_type": "code",
   "execution_count": null,
   "id": "ncKYrNIy2XNC",
   "metadata": {
    "id": "ncKYrNIy2XNC"
   },
   "outputs": [],
   "source": [
    "#correlation matrix for each numerical feature using \".corr()\"\n",
    "#corr_matrix= round(cardio_df[[i for i in cardio_df.describe().columns if i not in [\"glucose\",\"heartRate\",\"diaBP\",\"sysBP\",\"40-50age\",\"BMI\"]]].corr(),3)\n",
    "#corr_matrix"
   ]
  },
  {
   "cell_type": "code",
   "execution_count": null,
   "id": "D7pN-6dx2XP7",
   "metadata": {
    "id": "D7pN-6dx2XP7"
   },
   "outputs": [],
   "source": [
    "#visualization using heatmap\n",
    "#sns.set(rc={'figure.figsize':(20,14)})\n",
    "#matrix = np.triu(corr_matrix)\n",
    "#sns.heatmap(corr_matrix, annot=True, cmap=\"Greens\")"
   ]
  },
  {
   "cell_type": "code",
   "execution_count": null,
   "id": "Ew434gPynY4Z",
   "metadata": {
    "colab": {
     "base_uri": "https://localhost:8080/"
    },
    "id": "Ew434gPynY4Z",
    "outputId": "99402686-0b70-473a-e390-d17e8596e75d"
   },
   "outputs": [],
   "source": [
    "#independent feature after removal of multicolliniarity of the data\n",
    "#features=[i for i in cardio_df.describe().columns if i not in [\"cardio_risk\",\"glucose\",\"heartRate\",\"diaBP\",\"sysBP\",\"40-50age\",\"BMI\"]]\n",
    "#print(features)       \n",
    "\n",
    "features=[i for i in cardio_df.describe().columns if i not in[\"cardio_risk\",\"diaBP\",\"sysBP\",\"glucose\",\"heartRate\",\"totChol\",\"BMI\"]]\n",
    "print(features)"
   ]
  },
  {
   "cell_type": "markdown",
   "id": "2f4smR95XEN3",
   "metadata": {
    "id": "2f4smR95XEN3"
   },
   "source": [
    "#logistic regression \n",
    "\n",
    "###Data preprocessing for logistic model\n"
   ]
  },
  {
   "cell_type": "code",
   "execution_count": null,
   "id": "3ajSDK2gXDA3",
   "metadata": {
    "id": "3ajSDK2gXDA3"
   },
   "outputs": [],
   "source": [
    "#separating dependent and independent variables\n",
    "\n",
    "X=cardio_df[features]\n",
    "y=cardio_df[\"cardio_risk\"]"
   ]
  },
  {
   "cell_type": "code",
   "execution_count": null,
   "id": "xw35t6O-XDHv",
   "metadata": {
    "colab": {
     "base_uri": "https://localhost:8080/"
    },
    "id": "xw35t6O-XDHv",
    "outputId": "aad28604-2cc8-4a12-df00-76c5c12b34bb"
   },
   "outputs": [],
   "source": [
    "## Test-Train Split of Input Dataset\n",
    "X_train, X_test, y_train, y_test = train_test_split(X, y, train_size=0.8, test_size=0.2, random_state=4)\n",
    "print((X_train.shape,  y_train.shape),(y_test.shape,X_test.shape))"
   ]
  },
  {
   "cell_type": "markdown",
   "id": "DOtT0TR-hdd4",
   "metadata": {
    "id": "DOtT0TR-hdd4"
   },
   "source": [
    "**What is Standardization?**\n",
    "\n",
    "Standardization is another scaling technique where the values are centered around the mean with a unit standard deviation. This means that the mean of the attribute becomes zero and the resultant distribution has a unit standard deviation."
   ]
  },
  {
   "cell_type": "code",
   "execution_count": null,
   "id": "OZAn79pahDZ4",
   "metadata": {
    "id": "OZAn79pahDZ4"
   },
   "outputs": [],
   "source": [
    "#using standardization\n",
    "scaler=StandardScaler()\n",
    "X_train=scaler.fit_transform(X_train)\n",
    "X_test=scaler.transform(X_test)"
   ]
  },
  {
   "cell_type": "code",
   "execution_count": null,
   "id": "Se5b2bxihPe3",
   "metadata": {
    "id": "Se5b2bxihPe3"
   },
   "outputs": [],
   "source": [
    "#creating dictionary for storing different models accuracy\n",
    "model_comparison={}"
   ]
  },
  {
   "cell_type": "markdown",
   "id": "rCcEGy0qa9C4",
   "metadata": {
    "id": "rCcEGy0qa9C4"
   },
   "source": [
    "###  Synthetic Minority Oversampling Technique (SMOTE)\n",
    "This technique generates synthetic data for the minority class.\n",
    "\n",
    "SMOTE (Synthetic Minority Oversampling Technique) works by randomly picking a point from the minority class and computing the k-nearest neighbors for this point. The synthetic points are added between the chosen point and its neighbors.\n",
    "\n"
   ]
  },
  {
   "cell_type": "code",
   "execution_count": null,
   "id": "Vj4gL3TacWJp",
   "metadata": {
    "colab": {
     "base_uri": "https://localhost:8080/"
    },
    "id": "Vj4gL3TacWJp",
    "outputId": "4086718a-b8cf-4fd5-c815-9d8993e8aa32"
   },
   "outputs": [],
   "source": [
    "# Checking Value counts for both classes Before \n",
    "print(\"Before Handling Class Imbalace:\")\n",
    "y_train.value_counts()"
   ]
  },
  {
   "cell_type": "code",
   "execution_count": null,
   "id": "_tKmK9gbZ6zu",
   "metadata": {
    "id": "_tKmK9gbZ6zu"
   },
   "outputs": [],
   "source": [
    "smote = SMOTE(random_state=42)\n",
    "\n",
    "#fit predictor and target variable\n",
    "X_smote, y_smote = smote.fit_resample(X_train, y_train)"
   ]
  },
  {
   "cell_type": "code",
   "execution_count": null,
   "id": "lRH5CIa4Z62W",
   "metadata": {
    "colab": {
     "base_uri": "https://localhost:8080/"
    },
    "id": "lRH5CIa4Z62W",
    "outputId": "7997d8fd-c8ef-43b9-ba4e-30c82fef88c5"
   },
   "outputs": [],
   "source": [
    "# Checking Value counts for both classes After handling Class Imbalance:\n",
    "print(\"after  Handling Class Imbalace:\")\n",
    "y_smote.value_counts()"
   ]
  },
  {
   "cell_type": "markdown",
   "id": "TyOgAIyFgC46",
   "metadata": {
    "id": "TyOgAIyFgC46"
   },
   "source": [
    "## **Building logistic regression model** "
   ]
  },
  {
   "cell_type": "code",
   "execution_count": null,
   "id": "HBRxzLq3Z65P",
   "metadata": {
    "id": "HBRxzLq3Z65P"
   },
   "outputs": [],
   "source": [
    "# Fitting Logistic Regression Model\n",
    "log_reg_clf_model= LogisticRegression(fit_intercept=True, max_iter=10000)\n",
    "log_reg_clf_model.fit(X_smote,y_smote)\n",
    "y_pred = log_reg_clf_model.predict(X_test)"
   ]
  },
  {
   "cell_type": "markdown",
   "id": "EprpU1cJkPjU",
   "metadata": {
    "id": "EprpU1cJkPjU"
   },
   "source": [
    "### Since dataset is balanced we use accuracy metric"
   ]
  },
  {
   "cell_type": "code",
   "execution_count": null,
   "id": "lbfFTxulZ68j",
   "metadata": {
    "colab": {
     "base_uri": "https://localhost:8080/"
    },
    "id": "lbfFTxulZ68j",
    "outputId": "3fe8ed85-c077-4ca8-cb14-8b72e9fdac64"
   },
   "outputs": [],
   "source": [
    "#for train data\n",
    "print(f\"Using logistic regression we get an accuracy of train set{round(((accuracy_score(y_smote, log_reg_clf_model.predict(X_smote))))*100,2)}%\")\n",
    "print(f\"Using logistic regression we get an precision of train set {round(((precision_score(y_smote, log_reg_clf_model.predict(X_smote))))*100,2)}%\")\n",
    "print(f\"Using logistic regression we get an recall score of train set {round(((recall_score(y_smote, log_reg_clf_model.predict(X_smote))))*100,2)}%\")\n",
    "print(f\"Using logistic regression we get an f1 of train set {round(((f1_score(y_smote, log_reg_clf_model.predict(X_smote))))*100,2)}%\")\n",
    "print(f\"Using logistic regression we get an roc_auc_score of train set {round(((roc_auc_score(y_smote, log_reg_clf_model.predict(X_smote))))*100,2)}%\")\n",
    "\n",
    "\n",
    "print(\"\\n\")\n",
    "#for test data\n",
    "\n",
    "print(f\"Using logistic regression we get an accuracy of {round((accuracy_score(y_test, y_pred))*100,2)}%\")\n",
    "print(f\"Using logistic regression we get an precision of test set {round((precision_score(y_test, y_pred))*100,2)}%\")\n",
    "print(f\"Using logistic regression we get an recall score of test set {round((recall_score(y_test, y_pred))*100,2)}%\")\n",
    "print(f\"Using logistic regression we get an f1 of test set {round((f1_score(y_test, y_pred))*100,2)}%\")\n",
    "print(f\"Using logistic regression we get an roc_auc_score of test set {round((roc_auc_score(y_test, y_pred))*100,2)}%\")\n"
   ]
  },
  {
   "cell_type": "code",
   "execution_count": null,
   "id": "Wxk4-TE6t-Ll",
   "metadata": {
    "colab": {
     "base_uri": "https://localhost:8080/"
    },
    "id": "Wxk4-TE6t-Ll",
    "outputId": "02fabe0c-244e-471e-f306-3d55adbac829"
   },
   "outputs": [],
   "source": [
    "# print classification report\n",
    "print(classification_report(y_test, y_pred))\n",
    "report = pd.DataFrame(classification_report(y_pred=y_pred, y_true=y_test, output_dict=True))"
   ]
  },
  {
   "cell_type": "code",
   "execution_count": null,
   "id": "eHn2w3ah0UFT",
   "metadata": {
    "colab": {
     "base_uri": "https://localhost:8080/",
     "height": 246
    },
    "id": "eHn2w3ah0UFT",
    "outputId": "41e35c23-d30b-46c8-dafb-5972e9773f9f"
   },
   "outputs": [],
   "source": [
    " # Classification report\n",
    "plt.figure(figsize=(18,3))\n",
    "plt.subplot(1,3,1)\n",
    "sns.heatmap(report.iloc[:-1, :-1].T, annot=True, cmap='coolwarm')\n",
    "plt.title(f'logistic regression Report')"
   ]
  },
  {
   "cell_type": "markdown",
   "id": "Iq9UbHl1lgoM",
   "metadata": {
    "id": "Iq9UbHl1lgoM"
   },
   "source": [
    "### Feature importance"
   ]
  },
  {
   "cell_type": "code",
   "execution_count": null,
   "id": "45JbRyUHleU6",
   "metadata": {
    "colab": {
     "base_uri": "https://localhost:8080/",
     "height": 437
    },
    "id": "45JbRyUHleU6",
    "outputId": "ae775c4c-5715-4f5d-fc05-85bad4036420"
   },
   "outputs": [],
   "source": [
    "#for feature importance\n",
    "try:\n",
    "    importance = log_reg_clf_model.feature_importances_\n",
    "    feature = features\n",
    "except:\n",
    "    importance = np.abs(log_reg_clf_model.coef_[0])\n",
    "    feature = features\n",
    "    indices = np.argsort(importance)\n",
    "    indices = indices[::-1]\n",
    "\n",
    "plt.figure(figsize=(15,6))\n",
    "#ploting feature importance\n",
    "plt.bar(range(len(indices)),importance[indices])\n",
    "plt.xticks(range(len(indices)), [feature[i] for i in indices])\n",
    "plt.title('Feature Importance')\n",
    "plt.tight_layout()\n",
    "plt.show()    "
   ]
  },
  {
   "cell_type": "markdown",
   "id": "u1xzRSE5WVft",
   "metadata": {
    "id": "u1xzRSE5WVft"
   },
   "source": [
    "## 👉 Hyperparameter tunning to choose best parameters"
   ]
  },
  {
   "cell_type": "code",
   "execution_count": null,
   "id": "riazBEh42XSm",
   "metadata": {
    "id": "riazBEh42XSm"
   },
   "outputs": [],
   "source": [
    "from sklearn.model_selection import GridSearchCV\n"
   ]
  },
  {
   "cell_type": "code",
   "execution_count": null,
   "id": "AGjMknam2XV1",
   "metadata": {
    "id": "AGjMknam2XV1"
   },
   "outputs": [],
   "source": [
    "# Fitting Logistic Regression Model\n",
    "log_reg_clf_model= LogisticRegression()\n",
    "# search for optimun parameters using gridsearch\n",
    "params = {'penalty':['l1','l2'],\n",
    "         'C' : [0.000001,0.00001,0.0001,0.001,0.01,0.1,1,10,100,1000,10000,100000],\n",
    "         'class_weight':['balanced',None]}\n",
    "logistic_clf = GridSearchCV(estimator =log_reg_clf_model,param_grid=params,cv=10, scoring='roc_auc')"
   ]
  },
  {
   "cell_type": "code",
   "execution_count": null,
   "id": "_kplShNEz-iM",
   "metadata": {
    "colab": {
     "base_uri": "https://localhost:8080/"
    },
    "id": "_kplShNEz-iM",
    "outputId": "5ccf1230-4779-4ec0-84e7-9ef032c43825"
   },
   "outputs": [],
   "source": [
    "#training the classifier\n",
    "logistic_clf.fit(X_smote,y_smote)"
   ]
  },
  {
   "cell_type": "code",
   "execution_count": null,
   "id": "GNK_0dIEOCK1",
   "metadata": {
    "colab": {
     "base_uri": "https://localhost:8080/"
    },
    "id": "GNK_0dIEOCK1",
    "outputId": "fd2d9aa9-e99a-4e7a-f9d0-b15aa9479bf5"
   },
   "outputs": [],
   "source": [
    "# printing the optimal accuracy score and hyperparameters\n",
    "print('We can get accuracy of',logistic_clf.best_score_,'using',logistic_clf.best_params_)"
   ]
  },
  {
   "cell_type": "markdown",
   "id": "NrBZIFoDOpYo",
   "metadata": {
    "id": "NrBZIFoDOpYo"
   },
   "source": [
    "### **Fitting the final model with the best parameters obtained from logistic_clf**"
   ]
  },
  {
   "cell_type": "code",
   "execution_count": null,
   "id": "MUn5XbOLOf_i",
   "metadata": {
    "colab": {
     "base_uri": "https://localhost:8080/"
    },
    "id": "MUn5XbOLOf_i",
    "outputId": "ad0a6705-9c87-42a0-ce64-a21681abce7d"
   },
   "outputs": [],
   "source": [
    "logistic_clf_model=LogisticRegression(C= 0.01, class_weight= 'balanced', penalty='l2',fit_intercept=True, max_iter=10000)\n",
    "#training the classifier\n",
    "logistic_clf_model.fit(X_smote,y_smote)"
   ]
  },
  {
   "cell_type": "code",
   "execution_count": null,
   "id": "YNoSESCBPfzR",
   "metadata": {
    "id": "YNoSESCBPfzR"
   },
   "outputs": [],
   "source": [
    "#predicting\n",
    "y_pred = logistic_clf_model.predict(X_test)"
   ]
  },
  {
   "cell_type": "markdown",
   "id": "vnjAl_tvKVy5",
   "metadata": {
    "id": "vnjAl_tvKVy5"
   },
   "source": [
    "## **Classification Evaluation Metrics for logistic regression**\n"
   ]
  },
  {
   "cell_type": "code",
   "execution_count": null,
   "id": "3GXQRxq7QnT9",
   "metadata": {
    "colab": {
     "base_uri": "https://localhost:8080/"
    },
    "id": "3GXQRxq7QnT9",
    "outputId": "35abcc1d-8f00-492f-928c-ab5139588183"
   },
   "outputs": [],
   "source": [
    "#for train data\n",
    "print(f\"Using logistic regression we get an accuracy of train set{round(((accuracy_score(y_smote, logistic_clf_model.predict(X_smote))))*100,2)}%\")\n",
    "print(f\"Using logistic regression we get an precision of train set {round(((precision_score(y_smote, logistic_clf_model.predict(X_smote))))*100,2)}%\")\n",
    "print(f\"Using logistic regression we get an recall score of train set {round(((recall_score(y_smote, logistic_clf_model.predict(X_smote))))*100,2)}%\")\n",
    "print(f\"Using logistic regression we get an f1 of train set {round(((f1_score(y_smote, logistic_clf_model.predict(X_smote))))*100,2)}%\")\n",
    "print(f\"Using logistic regression we get an roc_auc_score of train set {round(((roc_auc_score(y_smote, logistic_clf_model.predict(X_smote))))*100,2)}%\")\n",
    "\n",
    "print(\"\\n\")\n",
    "#for test data\n",
    "\n",
    "print(f\"Using logistic regression we get an accuracy of {round((accuracy_score(y_test, y_pred))*100,2)}%\")\n",
    "print(f\"Using logistic regression we get an precision of test set {round((precision_score(y_test, y_pred))*100,2)}%\")\n",
    "print(f\"Using logistic regression we get an recall score of test set {round((recall_score(y_test, y_pred))*100,2)}%\")\n",
    "print(f\"Using logistic regression we get an f1 of test set {round((f1_score(y_test, y_pred))*100,2)}%\")\n",
    "print(f\"Using logistic regression we get an roc_auc_score of test set {round((roc_auc_score(y_test, y_pred))*100,2)}%\")\n",
    "\n",
    "\n",
    "model_comparison['Logistic Regression']= [round(((accuracy_score(y_smote, logistic_clf_model.predict(X_smote))))*100,2),round(((precision_score(y_smote, logistic_clf_model.predict(X_smote))))*100,2),\n",
    "                                         round(((recall_score(y_smote, logistic_clf_model.predict(X_smote))))*100,2),round(((f1_score(y_smote, logistic_clf_model.predict(X_smote))))*100,2),round(((roc_auc_score(y_smote, logistic_clf_model.predict(X_smote))))*100,2),\"\",\n",
    "                                         round(((accuracy_score(y_test,y_pred)))*100,2),round((precision_score(y_test, y_pred))*100,2),round((recall_score(y_test, y_pred))*100,2),round((f1_score(y_test, y_pred))*100,2),round((roc_auc_score(y_test, y_pred))*100,2)]\n",
    "\n",
    "\n"
   ]
  },
  {
   "cell_type": "code",
   "execution_count": null,
   "id": "o2V4rPOjFKpt",
   "metadata": {
    "id": "o2V4rPOjFKpt"
   },
   "outputs": [],
   "source": []
  },
  {
   "cell_type": "markdown",
   "id": "7tHiEDz0ZRQF",
   "metadata": {
    "id": "7tHiEDz0ZRQF"
   },
   "source": [
    "### classification_report of logistic model"
   ]
  },
  {
   "cell_type": "code",
   "execution_count": null,
   "id": "RfHaCEmCQ_Hr",
   "metadata": {
    "colab": {
     "base_uri": "https://localhost:8080/",
     "height": 437
    },
    "id": "RfHaCEmCQ_Hr",
    "outputId": "ad6a73b3-a3f5-44de-fe3b-519f9c43e404"
   },
   "outputs": [],
   "source": [
    "# print classification report\n",
    "print(classification_report(y_test, y_pred))\n",
    "report = pd.DataFrame(classification_report(y_pred=y_pred, y_true=y_test, output_dict=True))\n",
    "print(\"\\n\")\n",
    "\n",
    "# Classification report\n",
    "plt.figure(figsize=(18,3))\n",
    "plt.subplot(1,3,1)\n",
    "sns.heatmap(report.iloc[:-1, :-1].T, annot=True, cmap='coolwarm')\n",
    "plt.title(f'logistic regression Report')"
   ]
  },
  {
   "cell_type": "markdown",
   "id": "WPLI3PFEZKy3",
   "metadata": {
    "id": "WPLI3PFEZKy3"
   },
   "source": [
    "### Confusion metrix"
   ]
  },
  {
   "cell_type": "code",
   "execution_count": null,
   "id": "yQnTRb9cRg6z",
   "metadata": {
    "colab": {
     "base_uri": "https://localhost:8080/",
     "height": 339
    },
    "id": "yQnTRb9cRg6z",
    "outputId": "3e6f3403-74cb-4879-f63c-b2c07aee1d05"
   },
   "outputs": [],
   "source": [
    "# confusion matrix of Logistic Model\n",
    "cm=confusion_matrix(y_test,y_pred)\n",
    "conf_matrix=pd.DataFrame(data=cm,columns=['Predicted:0','Predicted:1'],index=['Actual:0','Actual:1'])\n",
    "plt.figure(figsize = (8,5))\n",
    "sns.heatmap(conf_matrix, annot=True,fmt='d',cmap=\"YlGnBu\")\n"
   ]
  },
  {
   "cell_type": "markdown",
   "id": "A2Ul3Y4oZH2z",
   "metadata": {
    "id": "A2Ul3Y4oZH2z"
   },
   "source": [
    "### Feature importance"
   ]
  },
  {
   "cell_type": "code",
   "execution_count": null,
   "id": "RfzRHDPHWUf6",
   "metadata": {
    "colab": {
     "base_uri": "https://localhost:8080/",
     "height": 410
    },
    "id": "RfzRHDPHWUf6",
    "outputId": "c16224f6-657d-47b9-ff6a-f53a4ca226b2"
   },
   "outputs": [],
   "source": [
    "# ROC curve and AUC\n",
    "probs =logistic_clf_model.predict_proba(X_test)\n",
    "# keep probabilities for the positive outcome only\n",
    "probs = probs[:, 1]\n",
    "# calculate AUC\n",
    "log_auc = roc_auc_score(y_test, probs)\n",
    "\n",
    "# calculate roc curve\n",
    "fpr, tpr, thresholds = roc_curve(y_test, probs)\n",
    "# plot curve\n",
    "sns.set_style('whitegrid')\n",
    "plt.figure(figsize=(10,6))\n",
    "plt.plot([0, 1], [0, 1], linestyle='--')\n",
    "plt.plot(fpr, tpr, marker='.')\n",
    "plt.ylabel('True positive rate')\n",
    "plt.xlabel('False positive rate')\n",
    "plt.title(f\"AUC = {round(log_auc,3)}\")\n",
    "plt.show()"
   ]
  },
  {
   "cell_type": "code",
   "execution_count": null,
   "id": "v87ktui1XLis",
   "metadata": {
    "colab": {
     "base_uri": "https://localhost:8080/",
     "height": 437
    },
    "id": "v87ktui1XLis",
    "outputId": "e3937f47-5be1-44f5-ce89-77fb2e1e3438"
   },
   "outputs": [],
   "source": [
    "#for feature importance\n",
    "try:\n",
    "    importance = logistic_clf_model.feature_importances_\n",
    "    feature = features\n",
    "except:\n",
    "    importance = np.abs(logistic_clf_model.coef_[0])\n",
    "    feature = features\n",
    "    indices = np.argsort(importance)\n",
    "    indices = indices[::-1]\n",
    "\n",
    "plt.figure(figsize=(15,6))\n",
    "#ploting feature importance\n",
    "plt.bar(range(len(indices)),importance[indices])\n",
    "plt.xticks(range(len(indices)), [feature[i] for i in indices])\n",
    "plt.title('Feature Importance')\n",
    "plt.tight_layout()\n",
    "plt.show()   "
   ]
  },
  {
   "cell_type": "code",
   "execution_count": null,
   "id": "4QKDNcpogK1u",
   "metadata": {
    "colab": {
     "base_uri": "https://localhost:8080/"
    },
    "id": "4QKDNcpogK1u",
    "outputId": "02511e4f-8826-4e76-b368-7c0b943e2d53"
   },
   "outputs": [],
   "source": [
    "cardio_df.columns"
   ]
  },
  {
   "cell_type": "markdown",
   "id": "U0HNfQbmZ-bm",
   "metadata": {
    "id": "U0HNfQbmZ-bm"
   },
   "source": [
    "## Decision Tree Model"
   ]
  },
  {
   "cell_type": "code",
   "execution_count": null,
   "id": "7woISmoN5keX",
   "metadata": {
    "id": "7woISmoN5keX"
   },
   "outputs": [],
   "source": [
    "#separating dependent and independent features\n",
    "features=cardio_df.columns\n",
    "independent_variables=[i for i in features if i not in [\"cardio_risk\"]]\n",
    "#independent variables\n",
    "X=cardio_df[independent_variables]\n",
    "#dependent variables\n",
    "y=cardio_df[\"cardio_risk\"]"
   ]
  },
  {
   "cell_type": "code",
   "execution_count": null,
   "id": "BphXAzWa6OZy",
   "metadata": {
    "colab": {
     "base_uri": "https://localhost:8080/"
    },
    "id": "BphXAzWa6OZy",
    "outputId": "9126dcd7-b440-46b7-f76f-f02aedebba3a"
   },
   "outputs": [],
   "source": [
    "#spliting dataset into training and testing set\n",
    "X_train, X_test, y_train, y_test = train_test_split( X,y , test_size = 0.2, random_state = 3)\n",
    "print((X_train.shape,  y_train.shape),(y_test.shape,X_test.shape))"
   ]
  },
  {
   "cell_type": "code",
   "execution_count": null,
   "id": "mbfQ1BF3BpgE",
   "metadata": {
    "id": "mbfQ1BF3BpgE"
   },
   "outputs": [],
   "source": [
    "smote = SMOTE(random_state=42)\n",
    "#fit predictor and target variable\n",
    "X_smote, y_smote = smote.fit_resample(X_train, y_train)"
   ]
  },
  {
   "cell_type": "code",
   "execution_count": null,
   "id": "UgBuPgPC8PzJ",
   "metadata": {
    "id": "UgBuPgPC8PzJ"
   },
   "outputs": [],
   "source": [
    "# Create the parameter grid \n",
    "param_grid = {\n",
    "    'max_depth': range(1, 6, 1),\n",
    "    'min_samples_leaf': range(1, 50, 2),\n",
    "    'min_samples_split': range(2, 50, 2),\n",
    "    'criterion': [\"entropy\", \"gini\"]\n",
    "}\n",
    "\n",
    "n_folds = 5\n",
    "\n",
    "# Instantiate the grid search model\n",
    "model_tree = DecisionTreeClassifier()\n",
    "grid_search = GridSearchCV(estimator = model_tree, param_grid = param_grid, scoring = 'roc_auc',\n",
    "                          cv = n_folds, verbose = 1)\n"
   ]
  },
  {
   "cell_type": "code",
   "execution_count": null,
   "id": "Bp-8-fjSAotl",
   "metadata": {
    "colab": {
     "base_uri": "https://localhost:8080/"
    },
    "id": "Bp-8-fjSAotl",
    "outputId": "e48f97b5-4343-4e4b-c901-b9b9cc8fee38"
   },
   "outputs": [],
   "source": [
    "\n",
    "# Fit the grid search to the data\n",
    "grid_search.fit(X_smote,y_smote)"
   ]
  },
  {
   "cell_type": "code",
   "execution_count": null,
   "id": "KmQKMyaO8rQc",
   "metadata": {
    "colab": {
     "base_uri": "https://localhost:8080/",
     "height": 530
    },
    "id": "KmQKMyaO8rQc",
    "outputId": "d21f4489-c269-45e5-e8c8-d1ceabe59091"
   },
   "outputs": [],
   "source": [
    "# cv results\n",
    "cv_results = pd.DataFrame(grid_search.cv_results_)\n",
    "cv_results.head()"
   ]
  },
  {
   "cell_type": "code",
   "execution_count": null,
   "id": "_YoT7_rL9xHF",
   "metadata": {
    "colab": {
     "base_uri": "https://localhost:8080/"
    },
    "id": "_YoT7_rL9xHF",
    "outputId": "4558ebf4-bb47-457e-b757-75bd7067c1a9"
   },
   "outputs": [],
   "source": [
    "# printing the optimal accuracy score and hyperparameters\n",
    "print(\"best accuracy\", grid_search.best_score_)\n",
    "print(grid_search.best_estimator_)"
   ]
  },
  {
   "cell_type": "code",
   "execution_count": null,
   "id": "83RHq4cg90zE",
   "metadata": {
    "id": "83RHq4cg90zE"
   },
   "outputs": [],
   "source": [
    "# model with optimal hyperparameters\n",
    "tree_clf_model = DecisionTreeClassifier(max_depth=5, min_samples_leaf=21, min_samples_split=44)\n",
    "tree_clf_model.fit(X_smote, y_smote)\n",
    "y_pred= tree_clf_model.predict(X_test)"
   ]
  },
  {
   "cell_type": "markdown",
   "id": "xwKkF1AkJ6XI",
   "metadata": {
    "id": "xwKkF1AkJ6XI"
   },
   "source": [
    "## **Classification Evaluation Metrics for Decision Tree**\n"
   ]
  },
  {
   "cell_type": "code",
   "execution_count": null,
   "id": "S1QWmdaZ-HaQ",
   "metadata": {
    "colab": {
     "base_uri": "https://localhost:8080/"
    },
    "id": "S1QWmdaZ-HaQ",
    "outputId": "27b468ff-a57b-4601-bf2f-223508cd8fcc"
   },
   "outputs": [],
   "source": [
    "#for train data\n",
    "print(f\"Using DecisionTreeClassifier we get an accuracy of train set{round(((accuracy_score(y_smote, tree_clf_model.predict(X_smote))))*100,2)}%\")\n",
    "print(f\"Using DecisionTreeClassifier we get an precision of train set {round(((precision_score(y_smote, tree_clf_model.predict(X_smote))))*100,2)}%\")\n",
    "print(f\"Using DecisionTreeClassifier we get an recall score of train set {round(((recall_score(y_smote, tree_clf_model.predict(X_smote))))*100,2)}%\")\n",
    "print(f\"Using DecisionTreeClassifier we get an f1 of train set {round(((f1_score(y_smote, tree_clf_model.predict(X_smote))))*100,2)}%\")\n",
    "print(f\"Using DecisionTreeClassifier we get an roc_auc_score of train set {round(((roc_auc_score(y_smote, tree_clf_model.predict(X_smote))))*100,2)}%\")\n",
    "\n",
    "print(\"\\n\")\n",
    "#for test data\n",
    "\n",
    "print(f\"Using DecisionTreeClassifier we get an accuracy of test set {round((accuracy_score(y_test, y_pred))*100,2)}%\")\n",
    "print(f\"Using DecisionTreeClassifier we get an precision of test set {round((precision_score(y_test, y_pred))*100,2)}%\")\n",
    "print(f\"Using DecisionTreeClassifier we get an recall score of test set {round((recall_score(y_test, y_pred))*100,2)}%\")\n",
    "print(f\"Using DecisionTreeClassifier we get an f1 of test set {round((f1_score(y_test, y_pred))*100,2)}%\")\n",
    "print(f\"Using DecisionTreeClassifier we get an roc_auc_score of test set {round((roc_auc_score(y_test, y_pred))*100,2)}%\")\n",
    "\n",
    "model_comparison['DecisionTreeClassifier ']= [round(((accuracy_score(y_smote, tree_clf_model.predict(X_smote))))*100,2),round(((precision_score(y_smote, tree_clf_model.predict(X_smote))))*100,2),\n",
    "                                         round(((recall_score(y_smote, tree_clf_model.predict(X_smote))))*100,2),round(((f1_score(y_smote, tree_clf_model.predict(X_smote))))*100,2),round(((roc_auc_score(y_smote, tree_clf_model.predict(X_smote))))*100,2),\"\",\n",
    "                                         round(((accuracy_score(y_test,y_pred)))*100,2),round((precision_score(y_test, y_pred))*100,2),round((recall_score(y_test, y_pred))*100,2),round((f1_score(y_test, y_pred))*100,2),round((roc_auc_score(y_test, y_pred))*100,2)]\n",
    "\n",
    "\n",
    "\n"
   ]
  },
  {
   "cell_type": "code",
   "execution_count": null,
   "id": "ggIVyD4X-t3D",
   "metadata": {
    "colab": {
     "base_uri": "https://localhost:8080/",
     "height": 472
    },
    "id": "ggIVyD4X-t3D",
    "outputId": "a2fb2140-a329-49bc-b49b-82a038c0687a"
   },
   "outputs": [],
   "source": [
    "# print classification report\n",
    "print(\"classification report\")\n",
    "print(classification_report(y_test, y_pred))\n",
    "report = pd.DataFrame(classification_report(y_pred=y_pred, y_true=y_test, output_dict=True))\n",
    "print(\"\\n\\n\")\n",
    "\n",
    "# Classification report\n",
    "\n",
    "plt.figure(figsize=(18,3))\n",
    "plt.subplot(1,3,1)\n",
    "sns.heatmap(report.iloc[:-1, :-1].T, annot=True, cmap='coolwarm')\n",
    "plt.title(f'decision tree Report')"
   ]
  },
  {
   "cell_type": "code",
   "execution_count": null,
   "id": "RynRDxndFrrG",
   "metadata": {
    "colab": {
     "base_uri": "https://localhost:8080/",
     "height": 339
    },
    "id": "RynRDxndFrrG",
    "outputId": "b493b829-fba3-4383-d5d9-c2e4e589f614"
   },
   "outputs": [],
   "source": [
    "# confusion matrix of Logistic Model\n",
    "cm=confusion_matrix(y_test,y_pred)\n",
    "conf_matrix=pd.DataFrame(data=cm,columns=['Predicted:0','Predicted:1'],index=['Actual:0','Actual:1'])\n",
    "plt.figure(figsize = (8,5))\n",
    "sns.heatmap(conf_matrix, annot=True,fmt='d',cmap=\"YlGnBu\")\n"
   ]
  },
  {
   "cell_type": "code",
   "execution_count": null,
   "id": "M0i_GuVNFpPZ",
   "metadata": {
    "colab": {
     "base_uri": "https://localhost:8080/",
     "height": 410
    },
    "id": "M0i_GuVNFpPZ",
    "outputId": "2bd39630-0ee3-4f38-e8a8-36c9e3bb8dbf"
   },
   "outputs": [],
   "source": [
    "# ROC curve and AUC\n",
    "probs =tree_clf_model.predict_proba(X_test)\n",
    "# keep probabilities for the positive outcome only\n",
    "probs = probs[:, 1]\n",
    "# calculate AUC\n",
    "tree_auc = roc_auc_score(y_test, probs)\n",
    "\n",
    "\n",
    "# calculate roc curve\n",
    "fpr, tpr, thresholds = roc_curve(y_test, probs)\n",
    "# plot curve\n",
    "sns.set_style('whitegrid')\n",
    "plt.figure(figsize=(10,6))\n",
    "plt.plot([0, 1], [0, 1], linestyle='--')\n",
    "plt.plot(fpr, tpr, marker='.')\n",
    "plt.ylabel('True positive rate')\n",
    "plt.xlabel('False positive rate')\n",
    "plt.title(f\"AUC = {round(tree_auc,3)}\")\n",
    "plt.show()"
   ]
  },
  {
   "cell_type": "code",
   "execution_count": null,
   "id": "JLMmGuJiFmus",
   "metadata": {
    "colab": {
     "base_uri": "https://localhost:8080/",
     "height": 437
    },
    "id": "JLMmGuJiFmus",
    "outputId": "7a06132e-8ea8-4c7d-fb7f-3c378ae8753a"
   },
   "outputs": [],
   "source": [
    "\n",
    "#for feature importance\n",
    "try:\n",
    "    importance = tree_clf_model.feature_importances_\n",
    "    feature = features\n",
    "except:\n",
    "    importance = np.abs(tree_clf_model.coef_[0])\n",
    "    feature = features\n",
    "    indices = np.argsort(importance)\n",
    "    indices = indices[::-1]\n",
    "\n",
    "plt.figure(figsize=(15,6))\n",
    "#ploting feature importance\n",
    "plt.bar(range(len(indices)),importance[indices])\n",
    "plt.xticks(range(len(indices)), [feature[i] for i in indices])\n",
    "plt.title('Feature Importance')\n",
    "plt.tight_layout()\n",
    "plt.show()   \n"
   ]
  },
  {
   "cell_type": "markdown",
   "id": "h_qPj8MBGm9F",
   "metadata": {
    "id": "h_qPj8MBGm9F"
   },
   "source": [
    "## Random Forest Classifier"
   ]
  },
  {
   "cell_type": "code",
   "execution_count": null,
   "id": "LAb2qZkPHUlH",
   "metadata": {
    "id": "LAb2qZkPHUlH"
   },
   "outputs": [],
   "source": [
    "\n",
    "# Create the parameter grid based on the results of random search \n",
    "param_grid = {\n",
    "    'max_depth':range(4, 10, 1),\n",
    "    'min_samples_leaf': range(100, 400, 100),\n",
    "    'min_samples_split': range(200, 500, 100),\n",
    "    'n_estimators': [100,200,300], \n",
    "    'max_features': [2, 10]\n",
    "}\n",
    "# Create a based model\n",
    "rf = RandomForestClassifier(random_state=2)\n",
    "# Instantiate the grid search model\n",
    "grid_search = GridSearchCV(estimator = rf, param_grid = param_grid,scoring = 'roc_auc', \n",
    "                          cv = 3, n_jobs = -1,verbose = 1, return_train_score=True)"
   ]
  },
  {
   "cell_type": "code",
   "execution_count": null,
   "id": "wuwDHSIjHUnb",
   "metadata": {
    "colab": {
     "background_save": true,
     "base_uri": "https://localhost:8080/"
    },
    "id": "wuwDHSIjHUnb",
    "outputId": "83a52031-712c-44e9-a3fb-3c1aa171769d"
   },
   "outputs": [],
   "source": [
    "grid_search.fit(X_smote, y_smote)\n"
   ]
  },
  {
   "cell_type": "code",
   "execution_count": null,
   "id": "3fFfwVMAHUq6",
   "metadata": {
    "colab": {
     "background_save": true
    },
    "id": "3fFfwVMAHUq6",
    "outputId": "c4f7b136-4614-4636-db67-3707b2c71f1c"
   },
   "outputs": [],
   "source": [
    "# printing the optimal accuracy score and hyperparameters\n",
    "print('We can get accuracy of',grid_search.best_score_,'using',grid_search.best_params_)"
   ]
  },
  {
   "cell_type": "markdown",
   "id": "lQzctExkJDC2",
   "metadata": {
    "id": "lQzctExkJDC2"
   },
   "source": [
    "### **Fitting the final model with the best parameters obtained from grid search.**\n"
   ]
  },
  {
   "cell_type": "code",
   "execution_count": null,
   "id": "iGGuEN9xHUw9",
   "metadata": {
    "colab": {
     "background_save": true
    },
    "id": "iGGuEN9xHUw9"
   },
   "outputs": [],
   "source": [
    "#random forest  model with best parameters\n",
    "random_clf_model = RandomForestClassifier(bootstrap=True,\n",
    "                                  max_depth= 9, \n",
    "                                  max_features = 2,\n",
    "                                  min_samples_leaf=100,\n",
    "                                  min_samples_split= 200,\n",
    "                                  n_estimators=300)"
   ]
  },
  {
   "cell_type": "code",
   "execution_count": null,
   "id": "TjqnEzFUHU0C",
   "metadata": {
    "colab": {
     "background_save": true
    },
    "id": "TjqnEzFUHU0C"
   },
   "outputs": [],
   "source": [
    "# fit\n",
    "random_clf_model.fit(X_smote,y_smote)\n",
    "# predict\n",
    "y_pred= random_clf_model.predict(X_test)"
   ]
  },
  {
   "cell_type": "markdown",
   "id": "h-XY6wOaJx1O",
   "metadata": {
    "id": "h-XY6wOaJx1O"
   },
   "source": [
    "## **Classification Evaluation Metrics for Random Forest**\n"
   ]
  },
  {
   "cell_type": "code",
   "execution_count": null,
   "id": "keWbb9HWvay4",
   "metadata": {
    "colab": {
     "background_save": true
    },
    "id": "keWbb9HWvay4",
    "outputId": "cf9a9fbe-2fe8-482a-9d8a-5388e8f65e62"
   },
   "outputs": [],
   "source": [
    "#for train data\n",
    "print(f\"Using Random forest Classifier we get an accuracy of train set {round(((accuracy_score(y_smote, random_clf_model.predict(X_smote))))*100,2)}%\")\n",
    "print(f\"Using Random forest Classifier we get an precision of train set {round(((precision_score(y_smote, random_clf_model.predict(X_smote))))*100,2)}%\")\n",
    "print(f\"Using Random forest Classifier we get an recall score of train set {round(((recall_score(y_smote, random_clf_model.predict(X_smote))))*100,2)}%\")\n",
    "print(f\"Using Random forest Classifier we get an f1 of train set {round(((f1_score(y_smote, random_clf_model.predict(X_smote))))*100,2)}%\")\n",
    "print(f\"Using Random forest Classifier we get an roc_auc_score of train set {round(((roc_auc_score(y_smote, random_clf_model.predict(X_smote))))*100,2)}%\")\n",
    "\n",
    "print(\"\\n\")\n",
    "#for test data\n",
    "\n",
    "print(f\"Using Random forest Classifier we get an accuracy of test set {round((accuracy_score(y_test, y_pred))*100,2)}%\")\n",
    "print(f\"Using Random forest Classifier we get an precision of test set {round((precision_score(y_test, y_pred))*100,2)}%\")\n",
    "print(f\"Using Random forest Classifier we get an recall score of test set {round((recall_score(y_test, y_pred))*100,2)}%\")\n",
    "print(f\"Using Random forest Classifier we get an f1 of test set {round((f1_score(y_test, y_pred))*100,2)}%\")\n",
    "print(f\"Using Random forest Classifier we get an roc_auc_score of test set {round((roc_auc_score(y_test, y_pred))*100,2)}%\")\n",
    "\n",
    "\n",
    "\n",
    "\n",
    "model_comparison['RandomforestClassifier ']= [round(((accuracy_score(y_smote, random_clf_model.predict(X_smote))))*100,2),round(((precision_score(y_smote, random_clf_model.predict(X_smote))))*100,2),\n",
    "                                         round(((recall_score(y_smote, random_clf_model.predict(X_smote))))*100,2),round(((f1_score(y_smote, random_clf_model.predict(X_smote))))*100,2),round(((roc_auc_score(y_smote, random_clf_model.predict(X_smote))))*100,2),\"\",\n",
    "                                         round(((accuracy_score(y_test,y_pred)))*100,2),round((precision_score(y_test, y_pred))*100,2),round((recall_score(y_test, y_pred))*100,2),round((f1_score(y_test, y_pred))*100,2),round((roc_auc_score(y_test, y_pred))*100,2)]\n",
    "\n",
    "\n"
   ]
  },
  {
   "cell_type": "code",
   "execution_count": null,
   "id": "w6i-HNQaHU2U",
   "metadata": {
    "colab": {
     "background_save": true
    },
    "id": "w6i-HNQaHU2U",
    "outputId": "0659ddd5-617f-4957-d010-f6fd871e46b7"
   },
   "outputs": [],
   "source": [
    "# print classification report\n",
    "print(classification_report(y_test, y_pred))\n",
    "report = pd.DataFrame(classification_report(y_pred=y_pred, y_true=y_test, output_dict=True))\n",
    "print(\"\\n\")\n",
    "\n",
    "# Classification report\n",
    "plt.figure(figsize=(18,3))\n",
    "plt.subplot(1,3,1)\n",
    "sns.heatmap(report.iloc[:-1, :-1].T, annot=True, cmap='coolwarm')\n",
    "plt.title(f'Random forest Report')"
   ]
  },
  {
   "cell_type": "markdown",
   "id": "oiC4s5EOKtAp",
   "metadata": {
    "id": "oiC4s5EOKtAp"
   },
   "source": [
    "#### confusion metric"
   ]
  },
  {
   "cell_type": "code",
   "execution_count": null,
   "id": "1_mEBP5iKzPX",
   "metadata": {
    "colab": {
     "background_save": true
    },
    "id": "1_mEBP5iKzPX",
    "outputId": "f09ea554-518a-4c8d-d227-1d10e932ecd6"
   },
   "outputs": [],
   "source": [
    "# confusion matrix of Logistic Model\n",
    "cm=confusion_matrix(y_test,y_pred)\n",
    "conf_matrix=pd.DataFrame(data=cm,columns=['Predicted:0','Predicted:1'],index=['Actual:0','Actual:1'])\n",
    "plt.figure(figsize = (8,5))\n",
    "sns.heatmap(conf_matrix, annot=True,fmt='d',cmap=\"YlGnBu\")"
   ]
  },
  {
   "cell_type": "markdown",
   "id": "6BubIdseK1J0",
   "metadata": {
    "id": "6BubIdseK1J0"
   },
   "source": [
    "### ROC curve"
   ]
  },
  {
   "cell_type": "code",
   "execution_count": null,
   "id": "yOr7wBf0KzMQ",
   "metadata": {
    "colab": {
     "background_save": true
    },
    "id": "yOr7wBf0KzMQ",
    "outputId": "7f88731c-3200-4590-9bda-ae49a88719ea"
   },
   "outputs": [],
   "source": [
    "\n",
    "# ROC curve and AUC\n",
    "probs =random_clf_model.predict_proba(X_test)\n",
    "# keep probabilities for the positive outcome only\n",
    "probs = probs[:, 1]\n",
    "# calculate AUC\n",
    "random_auc = roc_auc_score(y_test, probs)\n",
    "\n",
    "# calculate roc curve\n",
    "fpr, tpr, thresholds = roc_curve(y_test, probs)\n",
    "# plot curve\n",
    "sns.set_style('whitegrid')\n",
    "plt.figure(figsize=(10,6))\n",
    "plt.plot([0, 1], [0, 1], linestyle='--')\n",
    "plt.plot(fpr, tpr, marker='.')\n",
    "plt.ylabel('True positive rate')\n",
    "plt.xlabel('False positive rate')\n",
    "plt.title(f\"AUC = {round(random_auc,3)}\")\n",
    "plt.show()"
   ]
  },
  {
   "cell_type": "markdown",
   "id": "raY2NJ0eLBXY",
   "metadata": {
    "id": "raY2NJ0eLBXY"
   },
   "source": [
    "#feature importance"
   ]
  },
  {
   "cell_type": "code",
   "execution_count": null,
   "id": "jmwpGCS5KzJX",
   "metadata": {
    "colab": {
     "background_save": true
    },
    "id": "jmwpGCS5KzJX",
    "outputId": "187c799c-2d41-4acb-c4d8-27769ea2905c"
   },
   "outputs": [],
   "source": [
    "#for feature importance\n",
    "try:\n",
    "    importance = random_clf_model.feature_importances_\n",
    "    feature = features\n",
    "except:\n",
    "    importance = np.abs(random_clf_model.coef_[0])\n",
    "    feature = features\n",
    "    indices = np.argsort(importance)\n",
    "    indices = indices[::-1]\n",
    "\n",
    "plt.figure(figsize=(15,6))\n",
    "#ploting feature importance\n",
    "plt.bar(range(len(indices)),importance[indices])\n",
    "plt.xticks(range(len(indices)), [feature[i] for i in indices])\n",
    "plt.title('Feature Importance')\n",
    "plt.tight_layout()\n",
    "plt.show()   "
   ]
  },
  {
   "cell_type": "markdown",
   "id": "NSuH6cEQNko_",
   "metadata": {
    "id": "NSuH6cEQNko_"
   },
   "source": [
    "## XGBRFClassifier"
   ]
  },
  {
   "cell_type": "code",
   "execution_count": null,
   "id": "45YsX2zDKzF_",
   "metadata": {
    "colab": {
     "background_save": true
    },
    "id": "45YsX2zDKzF_"
   },
   "outputs": [],
   "source": []
  },
  {
   "cell_type": "code",
   "execution_count": null,
   "id": "Af_O1LpcKzCv",
   "metadata": {
    "colab": {
     "background_save": true
    },
    "id": "Af_O1LpcKzCv"
   },
   "outputs": [],
   "source": [
    "# Classifier\n",
    "Xgb_clf_model = XGBRFClassifier(silent=True, random_state=3)\n",
    "\n",
    "# HYperparameter Grid\n",
    "grid = {'n_estimators' : [150],\n",
    "        'max_depth' : [8,10],\n",
    "        'min_samples_split' : [50,100],\n",
    "        'min_samples_leaf' : [30,50],\n",
    "        'eta' : [0.05,0.08,0.1]}\n",
    "\n",
    "# GridSearch to find the best parameters\n",
    "xgb = GridSearchCV(Xgb_clf_model, param_grid = grid, scoring = 'roc_auc', cv=5)"
   ]
  },
  {
   "cell_type": "code",
   "execution_count": null,
   "id": "XhtnI7wXKy8-",
   "metadata": {
    "colab": {
     "background_save": true
    },
    "id": "XhtnI7wXKy8-",
    "outputId": "3cc965e9-3e86-442c-ccf4-31548d979fbc"
   },
   "outputs": [],
   "source": [
    "#training\n",
    "xgb.fit(X_smote, y_smote)"
   ]
  },
  {
   "cell_type": "code",
   "execution_count": null,
   "id": "BI2OkwdpRA_c",
   "metadata": {
    "colab": {
     "background_save": true
    },
    "id": "BI2OkwdpRA_c",
    "outputId": "8d4bc97e-863e-409a-d7d2-3d29ff35c21f"
   },
   "outputs": [],
   "source": [
    "# printing the optimal accuracy score and hyperparameters\n",
    "print(\"best roc_score\", xgb.best_score_)\n",
    "print(xgb.best_estimator_)"
   ]
  },
  {
   "cell_type": "markdown",
   "id": "3pRDXOoHRasd",
   "metadata": {
    "id": "3pRDXOoHRasd"
   },
   "source": [
    "### Fitting the final model with the best parameters obtained from grid search."
   ]
  },
  {
   "cell_type": "code",
   "execution_count": null,
   "id": "ryhsmHfqRO9W",
   "metadata": {
    "colab": {
     "background_save": true
    },
    "id": "ryhsmHfqRO9W"
   },
   "outputs": [],
   "source": [
    "#XGB Classifier model with best parameters\n",
    "XGB_clf_model = XGBRFClassifier(eta=0.05, max_depth=10, min_samples_leaf=30,min_samples_split=50, n_estimators=150, random_state=3,silent=True)"
   ]
  },
  {
   "cell_type": "code",
   "execution_count": null,
   "id": "MjkGWh02RPJB",
   "metadata": {
    "colab": {
     "background_save": true
    },
    "id": "MjkGWh02RPJB"
   },
   "outputs": [],
   "source": [
    "# fit\n",
    "XGB_clf_model.fit(X_smote,y_smote)\n",
    "# predict\n",
    "y_pred= XGB_clf_model.predict(X_test)"
   ]
  },
  {
   "cell_type": "markdown",
   "id": "NmAibsEOSnB8",
   "metadata": {
    "id": "NmAibsEOSnB8"
   },
   "source": [
    "### XGB classifier evaluation metric\n"
   ]
  },
  {
   "cell_type": "code",
   "execution_count": null,
   "id": "WMpWeyngw-Nc",
   "metadata": {
    "colab": {
     "background_save": true
    },
    "id": "WMpWeyngw-Nc",
    "outputId": "b7ed7d41-c956-4835-d733-656a0c5e0741"
   },
   "outputs": [],
   "source": [
    "#for train data\n",
    "print(f\"Using XGB classifier we get an accuracy of train set{round(((accuracy_score(y_smote, XGB_clf_model.predict(X_smote))))*100,2)}%\")\n",
    "print(f\"Using XGB classifier we get an precision of train set {round(((precision_score(y_smote, XGB_clf_model.predict(X_smote))))*100,2)}%\")\n",
    "print(f\"Using XGB classifier we get an recall score of train set {round(((recall_score(y_smote, XGB_clf_model.predict(X_smote))))*100,2)}%\")\n",
    "print(f\"Using XGB Classifier we get an f1 of train set {round(((f1_score(y_smote, XGB_clf_model.predict(X_smote))))*100,2)}%\")\n",
    "print(f\"Using XGB Classifier we get an roc_auc_score of train set {round(((roc_auc_score(y_smote, XGB_clf_model.predict(X_smote))))*100,2)}%\")\n",
    "\n",
    "print(\"\\n\")\n",
    "#for test data\n",
    "\n",
    "print(f\"Using XGB Classifier we get an accuracy of test set {round((accuracy_score(y_test, y_pred))*100,2)}%\")\n",
    "print(f\"Using XGB Classifier we get an precision of test set {round((precision_score(y_test, y_pred))*100,2)}%\")\n",
    "print(f\"Using XGB Classifier we get an recall score of test set {round((recall_score(y_test, y_pred))*100,2)}%\")\n",
    "print(f\"Using XGB Classifier we get an f1 of test set {round((f1_score(y_test, y_pred))*100,2)}%\")\n",
    "print(f\"Using XGB Classifier we get an roc_auc_score of test set {round((roc_auc_score(y_test, y_pred))*100,2)}%\")\n",
    "\n",
    "\n",
    "\n",
    "\n",
    "model_comparison['XGBClassifier ']= [round(((accuracy_score(y_smote, XGB_clf_model.predict(X_smote))))*100,2),round(((precision_score(y_smote, XGB_clf_model.predict(X_smote))))*100,2),\n",
    "                                         round(((recall_score(y_smote, XGB_clf_model.predict(X_smote))))*100,2),round(((f1_score(y_smote, XGB_clf_model.predict(X_smote))))*100,2),round(((roc_auc_score(y_smote, XGB_clf_model.predict(X_smote))))*100,2),\"\",\n",
    "                                         round(((accuracy_score(y_test,y_pred)))*100,2),round((precision_score(y_test, y_pred))*100,2),round((recall_score(y_test, y_pred))*100,2),round((f1_score(y_test, y_pred))*100,2),round((roc_auc_score(y_test, y_pred))*100,2)]\n",
    "\n",
    "\n"
   ]
  },
  {
   "cell_type": "code",
   "execution_count": null,
   "id": "TiSjCIM0RPMa",
   "metadata": {
    "colab": {
     "background_save": true
    },
    "id": "TiSjCIM0RPMa",
    "outputId": "8a976b05-19e6-4c57-80f6-15a3c9e858c5"
   },
   "outputs": [],
   "source": [
    "# print classification report\n",
    "print(classification_report(y_test, y_pred))\n",
    "report = pd.DataFrame(classification_report(y_pred=y_pred, y_true=y_test, output_dict=True))\n",
    "print(\"\\n\")\n",
    "\n",
    "# Classification report\n",
    "plt.figure(figsize=(18,3))\n",
    "plt.subplot(1,3,1)\n",
    "sns.heatmap(report.iloc[:-1, :-1].T, annot=True, cmap='coolwarm')\n",
    "plt.title(f'XGB Report')\n"
   ]
  },
  {
   "cell_type": "code",
   "execution_count": null,
   "id": "xua3OOTLS_G2",
   "metadata": {
    "colab": {
     "background_save": true
    },
    "id": "xua3OOTLS_G2",
    "outputId": "a04025ed-3036-46e7-cd36-5988334418d3"
   },
   "outputs": [],
   "source": [
    "# confusion matrix of Logistic Model\n",
    "cm=confusion_matrix(y_test,y_pred)\n",
    "conf_matrix=pd.DataFrame(data=cm,columns=['Predicted:0','Predicted:1'],index=['Actual:0','Actual:1'])\n",
    "plt.figure(figsize = (8,5))\n",
    "sns.heatmap(conf_matrix, annot=True,fmt='d',cmap=\"YlGnBu\")"
   ]
  },
  {
   "cell_type": "code",
   "execution_count": null,
   "id": "QnaxTtdVTQnp",
   "metadata": {
    "colab": {
     "background_save": true
    },
    "id": "QnaxTtdVTQnp",
    "outputId": "c56ffc2b-df04-4851-c257-b30813b2e96d"
   },
   "outputs": [],
   "source": [
    "# ROC curve and AUC\n",
    "probs =XGB_clf_model.predict_proba(X_test)\n",
    "# keep probabilities for the positive outcome only\n",
    "probs = probs[:, 1]\n",
    "# calculate AUC\n",
    "XGB_auc = roc_auc_score(y_test, probs)\n",
    "\n",
    "# calculate roc curve\n",
    "fpr, tpr, thresholds = roc_curve(y_test, probs)\n",
    "# plot curve\n",
    "sns.set_style('whitegrid')\n",
    "plt.figure(figsize=(10,6))\n",
    "plt.plot([0, 1], [0, 1], linestyle='--')\n",
    "plt.plot(fpr, tpr, marker='.')\n",
    "plt.ylabel('True positive rate')\n",
    "plt.xlabel('False positive rate')\n",
    "plt.title(f\"AUC = {round(XGB_auc,3)}\")\n",
    "plt.show()\n"
   ]
  },
  {
   "cell_type": "code",
   "execution_count": null,
   "id": "T7Yskn7RHU5f",
   "metadata": {
    "colab": {
     "background_save": true
    },
    "id": "T7Yskn7RHU5f",
    "outputId": "4d012569-c09b-4e2b-a6f0-fd39f41b5dae"
   },
   "outputs": [],
   "source": [
    "\n",
    "#for feature importance\n",
    "try:\n",
    "    importance = XGB_clf_model.feature_importances_\n",
    "    feature = features\n",
    "except:\n",
    "    importance = np.abs(XGB_clf_model.coef_[0])\n",
    "    feature = features\n",
    "    indices = np.argsort(importance)\n",
    "    indices = indices[::-1]\n",
    "\n",
    "plt.figure(figsize=(15,6))\n",
    "#ploting feature importance\n",
    "plt.bar(range(len(indices)),importance[indices])\n",
    "plt.xticks(range(len(indices)), [feature[i] for i in indices])\n",
    "plt.title('Feature Importance')\n",
    "plt.tight_layout()\n",
    "plt.show()   \n",
    "\n"
   ]
  },
  {
   "cell_type": "markdown",
   "id": "kgXb1uBkVL7h",
   "metadata": {
    "id": "kgXb1uBkVL7h"
   },
   "source": [
    "##Support vector machine"
   ]
  },
  {
   "cell_type": "code",
   "execution_count": null,
   "id": "g8-7AN6xU6q9",
   "metadata": {
    "colab": {
     "background_save": true
    },
    "id": "g8-7AN6xU6q9"
   },
   "outputs": [],
   "source": [
    "# SVM algorithm\n",
    "svm_clf_model = SVC(random_state= 0,probability=True)\n",
    "\n",
    "# HYperparameter Grid\n",
    "grid = {'kernel': [\"linear\",\"rbf\",\"poly\",\"sigmoid\"],\n",
    "        'C': [0.1, 1, 10, 100],\n",
    "        'max_iter' : [1000]}\n",
    "\n",
    "# GridSearch to find the best parameters\n",
    "svc_search = GridSearchCV(svm_clf_model, param_grid = grid, cv=5)\n"
   ]
  },
  {
   "cell_type": "code",
   "execution_count": null,
   "id": "UFOV4uEfV7BD",
   "metadata": {
    "colab": {
     "background_save": true
    },
    "id": "UFOV4uEfV7BD",
    "outputId": "f8f778f2-c5c3-40c8-a7d6-1be3f4dcc9d2"
   },
   "outputs": [],
   "source": [
    "#fit\n",
    "svc_search.fit(X_smote, y_smote)"
   ]
  },
  {
   "cell_type": "code",
   "execution_count": null,
   "id": "rLhXxf27WJIr",
   "metadata": {
    "colab": {
     "background_save": true
    },
    "id": "rLhXxf27WJIr",
    "outputId": "286ba7c5-b38c-4960-89a1-faf7cf6816bf"
   },
   "outputs": [],
   "source": [
    "# printing the optimal accuracy score and hyperparameters\n",
    "print(\"best roc_score\", svc_search.best_score_)\n",
    "print(svc_search.best_estimator_)"
   ]
  },
  {
   "cell_type": "code",
   "execution_count": null,
   "id": "X_qWWMKbWxiS",
   "metadata": {
    "colab": {
     "background_save": true
    },
    "id": "X_qWWMKbWxiS"
   },
   "outputs": [],
   "source": [
    "#XGB Classifier model with best parameters\n",
    "svc_clf_model = SVC(C=0.1, kernel='poly', max_iter=1000, probability=True, random_state=0)"
   ]
  },
  {
   "cell_type": "code",
   "execution_count": null,
   "id": "D0KcNcVDW4Tp",
   "metadata": {
    "colab": {
     "background_save": true
    },
    "id": "D0KcNcVDW4Tp"
   },
   "outputs": [],
   "source": [
    "# fit\n",
    "svc_clf_model.fit(X_smote,y_smote)\n",
    "# predict\n",
    "y_pred= svc_clf_model.predict(X_test)"
   ]
  },
  {
   "cell_type": "markdown",
   "id": "vpl3iHvjxtEi",
   "metadata": {
    "id": "vpl3iHvjxtEi"
   },
   "source": [
    "### Evaluation metric for SVM"
   ]
  },
  {
   "cell_type": "code",
   "execution_count": null,
   "id": "3GMQWFK8x0WE",
   "metadata": {
    "colab": {
     "background_save": true
    },
    "id": "3GMQWFK8x0WE",
    "outputId": "58596128-ecd7-419f-8fca-59572508a01a"
   },
   "outputs": [],
   "source": [
    "#for train data\n",
    "print(f\"Using SVM classifier we get an accuracy of train set{round(((accuracy_score(y_smote, svc_clf_model.predict(X_smote))))*100,2)}%\")\n",
    "print(f\"Using SVM classifier we get an precision of train set {round(((precision_score(y_smote, svc_clf_model.predict(X_smote))))*100,2)}%\")\n",
    "print(f\"Using SVM classifier we get an recall score of train set {round(((recall_score(y_smote, svc_clf_model.predict(X_smote))))*100,2)}%\")\n",
    "print(f\"Using SVM Classifier we get an f1 of train set {round(((f1_score(y_smote, svc_clf_model.predict(X_smote))))*100,2)}%\")\n",
    "print(f\"Using SVM Classifier we get an roc_auc_score of train set {round(((roc_auc_score(y_smote, svc_clf_model.predict(X_smote))))*100,2)}%\")\n",
    "\n",
    "print(\"\\n\")\n",
    "#for test data\n",
    "\n",
    "print(f\"Using SVM Classifier we get an accuracy of test set {round((accuracy_score(y_test, y_pred))*100,2)}%\")\n",
    "print(f\"Using SVM Classifier we get an precision of test set {round((precision_score(y_test, y_pred))*100,2)}%\")\n",
    "print(f\"Using SVM Classifier we get an recall score of test set {round((recall_score(y_test, y_pred))*100,2)}%\")\n",
    "print(f\"Using SVM Classifier we get an f1 of test set {round((f1_score(y_test, y_pred))*100,2)}%\")\n",
    "print(f\"Using SVM Classifier we get an roc_auc_score of test set {round((roc_auc_score(y_test, y_pred))*100,2)}%\")\n",
    "\n",
    "\n",
    "\n",
    "\n",
    "model_comparison['SVMClassifier ']= [round(((accuracy_score(y_smote, svc_clf_model.predict(X_smote))))*100,2),round(((precision_score(y_smote, svc_clf_model.predict(X_smote))))*100,2),\n",
    "                                         round(((recall_score(y_smote, svc_clf_model.predict(X_smote))))*100,2),round(((f1_score(y_smote, svc_clf_model.predict(X_smote))))*100,2),round(((roc_auc_score(y_smote, svc_clf_model.predict(X_smote))))*100,2),\"\",\n",
    "                                         round(((accuracy_score(y_test,y_pred)))*100,2),round((precision_score(y_test, y_pred))*100,2),round((recall_score(y_test, y_pred))*100,2),round((f1_score(y_test, y_pred))*100,2),round((roc_auc_score(y_test, y_pred))*100,2)]\n",
    "\n",
    "\n"
   ]
  },
  {
   "cell_type": "code",
   "execution_count": null,
   "id": "xaljWQFAXJ67",
   "metadata": {
    "colab": {
     "background_save": true
    },
    "id": "xaljWQFAXJ67",
    "outputId": "52d592b9-9fd2-4271-e130-fd085e3640de"
   },
   "outputs": [],
   "source": [
    "# print classification report\n",
    "print(classification_report(y_test, y_pred))\n",
    "report = pd.DataFrame(classification_report(y_pred=y_pred, y_true=y_test, output_dict=True))\n",
    "print(\"\\n\")\n",
    "\n",
    "# Classification report\n",
    "plt.figure(figsize=(18,3))\n",
    "plt.subplot(1,3,1)\n",
    "sns.heatmap(report.iloc[:-1, :-1].T, annot=True, cmap='coolwarm')\n",
    "plt.title(f'XGB Report')"
   ]
  },
  {
   "cell_type": "code",
   "execution_count": null,
   "id": "xszeA9BVXPDt",
   "metadata": {
    "colab": {
     "background_save": true
    },
    "id": "xszeA9BVXPDt",
    "outputId": "0ae537eb-7682-4724-ef43-4baf0cc655da"
   },
   "outputs": [],
   "source": [
    "# confusion matrix of Logistic Model\n",
    "cm=confusion_matrix(y_test,y_pred)\n",
    "conf_matrix=pd.DataFrame(data=cm,columns=['Predicted:0','Predicted:1'],index=['Actual:0','Actual:1'])\n",
    "plt.figure(figsize = (8,5))\n",
    "sns.heatmap(conf_matrix, annot=True,fmt='d',cmap=\"YlGnBu\")"
   ]
  },
  {
   "cell_type": "code",
   "execution_count": null,
   "id": "ThL41jWpXUa9",
   "metadata": {
    "colab": {
     "background_save": true
    },
    "id": "ThL41jWpXUa9",
    "outputId": "a90f472c-6687-43f7-f628-600bf4f4149e"
   },
   "outputs": [],
   "source": [
    "# ROC curve and AUC\n",
    "probs =svc_clf_model.predict_proba(X_test)\n",
    "# keep probabilities for the positive outcome only\n",
    "probs = probs[:, 1]\n",
    "# calculate AUC\n",
    "svc_auc = roc_auc_score(y_test, probs)\n",
    "\n",
    "# calculate roc curve\n",
    "fpr, tpr, thresholds = roc_curve(y_test, probs)\n",
    "# plot curve\n",
    "sns.set_style('whitegrid')\n",
    "plt.figure(figsize=(10,6))\n",
    "plt.plot([0, 1], [0, 1], linestyle='--')\n",
    "plt.plot(fpr, tpr, marker='.')\n",
    "plt.ylabel('True positive rate')\n",
    "plt.xlabel('False positive rate')\n",
    "plt.title(f\"AUC = {round(svc_auc,3)}\")\n",
    "plt.show()\n"
   ]
  },
  {
   "cell_type": "markdown",
   "id": "91ZRh1kf2KYB",
   "metadata": {
    "id": "91ZRh1kf2KYB"
   },
   "source": [
    "## Model comparison"
   ]
  },
  {
   "cell_type": "code",
   "execution_count": null,
   "id": "vAQl_naFiBhf",
   "metadata": {
    "colab": {
     "background_save": true
    },
    "id": "vAQl_naFiBhf"
   },
   "outputs": [],
   "source": [
    "Model_comparision=pd.DataFrame(model_comparison).T\n",
    "Model_comparision.columns=['accuracy_score_train_set',\"precision_score_train_set\",\"recall_score_train_set\",\"f1_score_train_set\",\"roc_auc_score_train_set\",\"-------\",\"accuracy_score_test_set\",\"precision_score_test_set\",\"recall_score_test_set\",\"f1_score_test_set\",\"roc_auc_score_test_set\"]"
   ]
  },
  {
   "cell_type": "code",
   "execution_count": null,
   "id": "Rv5-_WUW3kbW",
   "metadata": {
    "colab": {
     "background_save": true
    },
    "id": "Rv5-_WUW3kbW",
    "outputId": "104ebb6a-51b3-49bc-f36b-771fa70fdd65"
   },
   "outputs": [],
   "source": [
    "Model_comparision[[\"recall_score_train_set\",\"recall_score_test_set\"]]"
   ]
  },
  {
   "cell_type": "code",
   "execution_count": null,
   "id": "PIeYrYBND1g5",
   "metadata": {
    "id": "PIeYrYBND1g5"
   },
   "outputs": [],
   "source": []
  }
 ],
 "metadata": {
  "accelerator": "TPU",
  "colab": {
   "collapsed_sections": [
    "RbJdU1CR43ZM"
   ],
   "include_colab_link": true,
   "provenance": []
  },
  "gpuClass": "standard",
  "kernelspec": {
   "display_name": "Python 3 (ipykernel)",
   "language": "python",
   "name": "python3"
  },
  "language_info": {
   "codemirror_mode": {
    "name": "ipython",
    "version": 3
   },
   "file_extension": ".py",
   "mimetype": "text/x-python",
   "name": "python",
   "nbconvert_exporter": "python",
   "pygments_lexer": "ipython3",
   "version": "3.9.7"
  }
 },
 "nbformat": 4,
 "nbformat_minor": 5
}
