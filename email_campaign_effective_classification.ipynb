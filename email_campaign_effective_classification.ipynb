{
  "cells": [
    {
      "cell_type": "markdown",
      "metadata": {
        "id": "view-in-github",
        "colab_type": "text"
      },
      "source": [
        "<a href=\"https://colab.research.google.com/github/pavi-1994/Cardio_vascular_risk_prediction/blob/main/email_campaign_effective_classification.ipynb\" target=\"_parent\"><img src=\"https://colab.research.google.com/assets/colab-badge.svg\" alt=\"Open In Colab\"/></a>"
      ]
    },
    {
      "cell_type": "markdown",
      "id": "645fc8f7",
      "metadata": {
        "id": "645fc8f7"
      },
      "source": [
        "Problem Statement:\n",
        "\n",
        "Most of the small to medium business owners are making effective use of Gmail-based\n",
        "Email marketing Strategies for offline targeting of converting their prospective customers into\n",
        "leads so that they stay with them in Business.\n",
        "The main objective is to create a machine learning model to characterize the mail and track\n",
        "the mail that is ignored; read; acknowledged by the reader.\n",
        "Data columns are self-explanatory."
      ]
    },
    {
      "cell_type": "code",
      "execution_count": null,
      "id": "880fc563",
      "metadata": {
        "id": "880fc563"
      },
      "outputs": [],
      "source": [
        "import pandas as pd\n",
        "import numpy as np\n",
        "import matplotlib.pyplot as plt\n",
        "import seaborn as sns"
      ]
    },
    {
      "cell_type": "markdown",
      "id": "48dbde3a",
      "metadata": {
        "id": "48dbde3a"
      },
      "source": [
        "## Dataset Loading"
      ]
    },
    {
      "cell_type": "code",
      "execution_count": null,
      "id": "627dedcf",
      "metadata": {
        "id": "627dedcf",
        "outputId": "9b5f2f77-ff52-4069-93e8-e7f63b6a61a1"
      },
      "outputs": [
        {
          "data": {
            "text/html": [
              "<div>\n",
              "<style scoped>\n",
              "    .dataframe tbody tr th:only-of-type {\n",
              "        vertical-align: middle;\n",
              "    }\n",
              "\n",
              "    .dataframe tbody tr th {\n",
              "        vertical-align: top;\n",
              "    }\n",
              "\n",
              "    .dataframe thead th {\n",
              "        text-align: right;\n",
              "    }\n",
              "</style>\n",
              "<table border=\"1\" class=\"dataframe\">\n",
              "  <thead>\n",
              "    <tr style=\"text-align: right;\">\n",
              "      <th></th>\n",
              "      <th>Email_ID</th>\n",
              "      <th>Email_Type</th>\n",
              "      <th>Subject_Hotness_Score</th>\n",
              "      <th>Email_Source_Type</th>\n",
              "      <th>Customer_Location</th>\n",
              "      <th>Email_Campaign_Type</th>\n",
              "      <th>Total_Past_Communications</th>\n",
              "      <th>Time_Email_sent_Category</th>\n",
              "      <th>Word_Count</th>\n",
              "      <th>Total_Links</th>\n",
              "      <th>Total_Images</th>\n",
              "      <th>Email_Status</th>\n",
              "    </tr>\n",
              "  </thead>\n",
              "  <tbody>\n",
              "    <tr>\n",
              "      <th>0</th>\n",
              "      <td>EMA00081000034500</td>\n",
              "      <td>1</td>\n",
              "      <td>2.2</td>\n",
              "      <td>2</td>\n",
              "      <td>E</td>\n",
              "      <td>2</td>\n",
              "      <td>33.0</td>\n",
              "      <td>1</td>\n",
              "      <td>440</td>\n",
              "      <td>8.0</td>\n",
              "      <td>0.0</td>\n",
              "      <td>0</td>\n",
              "    </tr>\n",
              "    <tr>\n",
              "      <th>1</th>\n",
              "      <td>EMA00081000045360</td>\n",
              "      <td>2</td>\n",
              "      <td>2.1</td>\n",
              "      <td>1</td>\n",
              "      <td>NaN</td>\n",
              "      <td>2</td>\n",
              "      <td>15.0</td>\n",
              "      <td>2</td>\n",
              "      <td>504</td>\n",
              "      <td>5.0</td>\n",
              "      <td>0.0</td>\n",
              "      <td>0</td>\n",
              "    </tr>\n",
              "    <tr>\n",
              "      <th>2</th>\n",
              "      <td>EMA00081000066290</td>\n",
              "      <td>2</td>\n",
              "      <td>0.1</td>\n",
              "      <td>1</td>\n",
              "      <td>B</td>\n",
              "      <td>3</td>\n",
              "      <td>36.0</td>\n",
              "      <td>2</td>\n",
              "      <td>962</td>\n",
              "      <td>5.0</td>\n",
              "      <td>0.0</td>\n",
              "      <td>1</td>\n",
              "    </tr>\n",
              "    <tr>\n",
              "      <th>3</th>\n",
              "      <td>EMA00081000076560</td>\n",
              "      <td>1</td>\n",
              "      <td>3.0</td>\n",
              "      <td>2</td>\n",
              "      <td>E</td>\n",
              "      <td>2</td>\n",
              "      <td>25.0</td>\n",
              "      <td>2</td>\n",
              "      <td>610</td>\n",
              "      <td>16.0</td>\n",
              "      <td>0.0</td>\n",
              "      <td>0</td>\n",
              "    </tr>\n",
              "    <tr>\n",
              "      <th>4</th>\n",
              "      <td>EMA00081000109720</td>\n",
              "      <td>1</td>\n",
              "      <td>0.0</td>\n",
              "      <td>2</td>\n",
              "      <td>C</td>\n",
              "      <td>3</td>\n",
              "      <td>18.0</td>\n",
              "      <td>2</td>\n",
              "      <td>947</td>\n",
              "      <td>4.0</td>\n",
              "      <td>0.0</td>\n",
              "      <td>0</td>\n",
              "    </tr>\n",
              "  </tbody>\n",
              "</table>\n",
              "</div>"
            ],
            "text/plain": [
              "            Email_ID  Email_Type  Subject_Hotness_Score  Email_Source_Type  \\\n",
              "0  EMA00081000034500           1                    2.2                  2   \n",
              "1  EMA00081000045360           2                    2.1                  1   \n",
              "2  EMA00081000066290           2                    0.1                  1   \n",
              "3  EMA00081000076560           1                    3.0                  2   \n",
              "4  EMA00081000109720           1                    0.0                  2   \n",
              "\n",
              "  Customer_Location  Email_Campaign_Type  Total_Past_Communications  \\\n",
              "0                 E                    2                       33.0   \n",
              "1               NaN                    2                       15.0   \n",
              "2                 B                    3                       36.0   \n",
              "3                 E                    2                       25.0   \n",
              "4                 C                    3                       18.0   \n",
              "\n",
              "   Time_Email_sent_Category  Word_Count  Total_Links  Total_Images  \\\n",
              "0                         1         440          8.0           0.0   \n",
              "1                         2         504          5.0           0.0   \n",
              "2                         2         962          5.0           0.0   \n",
              "3                         2         610         16.0           0.0   \n",
              "4                         2         947          4.0           0.0   \n",
              "\n",
              "   Email_Status  \n",
              "0             0  \n",
              "1             0  \n",
              "2             1  \n",
              "3             0  \n",
              "4             0  "
            ]
          },
          "execution_count": 3,
          "metadata": {},
          "output_type": "execute_result"
        }
      ],
      "source": [
        "email_df=pd.read_csv(\"data_email_campaign.csv\")\n"
      ]
    },
    {
      "cell_type": "markdown",
      "id": "c4bb4eb1",
      "metadata": {
        "id": "c4bb4eb1"
      },
      "source": [
        "### Dataset First View"
      ]
    },
    {
      "cell_type": "code",
      "execution_count": null,
      "id": "cd227770",
      "metadata": {
        "id": "cd227770",
        "outputId": "dc333f1a-f54d-467b-d9d5-e9dd11664c3c"
      },
      "outputs": [
        {
          "data": {
            "text/html": [
              "<div>\n",
              "<style scoped>\n",
              "    .dataframe tbody tr th:only-of-type {\n",
              "        vertical-align: middle;\n",
              "    }\n",
              "\n",
              "    .dataframe tbody tr th {\n",
              "        vertical-align: top;\n",
              "    }\n",
              "\n",
              "    .dataframe thead th {\n",
              "        text-align: right;\n",
              "    }\n",
              "</style>\n",
              "<table border=\"1\" class=\"dataframe\">\n",
              "  <thead>\n",
              "    <tr style=\"text-align: right;\">\n",
              "      <th></th>\n",
              "      <th>Email_ID</th>\n",
              "      <th>Email_Type</th>\n",
              "      <th>Subject_Hotness_Score</th>\n",
              "      <th>Email_Source_Type</th>\n",
              "      <th>Customer_Location</th>\n",
              "      <th>Email_Campaign_Type</th>\n",
              "      <th>Total_Past_Communications</th>\n",
              "      <th>Time_Email_sent_Category</th>\n",
              "      <th>Word_Count</th>\n",
              "      <th>Total_Links</th>\n",
              "      <th>Total_Images</th>\n",
              "      <th>Email_Status</th>\n",
              "    </tr>\n",
              "  </thead>\n",
              "  <tbody>\n",
              "    <tr>\n",
              "      <th>0</th>\n",
              "      <td>EMA00081000034500</td>\n",
              "      <td>1</td>\n",
              "      <td>2.2</td>\n",
              "      <td>2</td>\n",
              "      <td>E</td>\n",
              "      <td>2</td>\n",
              "      <td>33.0</td>\n",
              "      <td>1</td>\n",
              "      <td>440</td>\n",
              "      <td>8.0</td>\n",
              "      <td>0.0</td>\n",
              "      <td>0</td>\n",
              "    </tr>\n",
              "    <tr>\n",
              "      <th>1</th>\n",
              "      <td>EMA00081000045360</td>\n",
              "      <td>2</td>\n",
              "      <td>2.1</td>\n",
              "      <td>1</td>\n",
              "      <td>NaN</td>\n",
              "      <td>2</td>\n",
              "      <td>15.0</td>\n",
              "      <td>2</td>\n",
              "      <td>504</td>\n",
              "      <td>5.0</td>\n",
              "      <td>0.0</td>\n",
              "      <td>0</td>\n",
              "    </tr>\n",
              "    <tr>\n",
              "      <th>2</th>\n",
              "      <td>EMA00081000066290</td>\n",
              "      <td>2</td>\n",
              "      <td>0.1</td>\n",
              "      <td>1</td>\n",
              "      <td>B</td>\n",
              "      <td>3</td>\n",
              "      <td>36.0</td>\n",
              "      <td>2</td>\n",
              "      <td>962</td>\n",
              "      <td>5.0</td>\n",
              "      <td>0.0</td>\n",
              "      <td>1</td>\n",
              "    </tr>\n",
              "    <tr>\n",
              "      <th>3</th>\n",
              "      <td>EMA00081000076560</td>\n",
              "      <td>1</td>\n",
              "      <td>3.0</td>\n",
              "      <td>2</td>\n",
              "      <td>E</td>\n",
              "      <td>2</td>\n",
              "      <td>25.0</td>\n",
              "      <td>2</td>\n",
              "      <td>610</td>\n",
              "      <td>16.0</td>\n",
              "      <td>0.0</td>\n",
              "      <td>0</td>\n",
              "    </tr>\n",
              "    <tr>\n",
              "      <th>4</th>\n",
              "      <td>EMA00081000109720</td>\n",
              "      <td>1</td>\n",
              "      <td>0.0</td>\n",
              "      <td>2</td>\n",
              "      <td>C</td>\n",
              "      <td>3</td>\n",
              "      <td>18.0</td>\n",
              "      <td>2</td>\n",
              "      <td>947</td>\n",
              "      <td>4.0</td>\n",
              "      <td>0.0</td>\n",
              "      <td>0</td>\n",
              "    </tr>\n",
              "  </tbody>\n",
              "</table>\n",
              "</div>"
            ],
            "text/plain": [
              "            Email_ID  Email_Type  Subject_Hotness_Score  Email_Source_Type  \\\n",
              "0  EMA00081000034500           1                    2.2                  2   \n",
              "1  EMA00081000045360           2                    2.1                  1   \n",
              "2  EMA00081000066290           2                    0.1                  1   \n",
              "3  EMA00081000076560           1                    3.0                  2   \n",
              "4  EMA00081000109720           1                    0.0                  2   \n",
              "\n",
              "  Customer_Location  Email_Campaign_Type  Total_Past_Communications  \\\n",
              "0                 E                    2                       33.0   \n",
              "1               NaN                    2                       15.0   \n",
              "2                 B                    3                       36.0   \n",
              "3                 E                    2                       25.0   \n",
              "4                 C                    3                       18.0   \n",
              "\n",
              "   Time_Email_sent_Category  Word_Count  Total_Links  Total_Images  \\\n",
              "0                         1         440          8.0           0.0   \n",
              "1                         2         504          5.0           0.0   \n",
              "2                         2         962          5.0           0.0   \n",
              "3                         2         610         16.0           0.0   \n",
              "4                         2         947          4.0           0.0   \n",
              "\n",
              "   Email_Status  \n",
              "0             0  \n",
              "1             0  \n",
              "2             1  \n",
              "3             0  \n",
              "4             0  "
            ]
          },
          "execution_count": 6,
          "metadata": {},
          "output_type": "execute_result"
        }
      ],
      "source": [
        "email_df.head()"
      ]
    },
    {
      "cell_type": "code",
      "execution_count": null,
      "id": "49c9276f",
      "metadata": {
        "id": "49c9276f",
        "outputId": "ffdab579-bf3c-4f85-de01-791d916f9d64"
      },
      "outputs": [
        {
          "data": {
            "text/html": [
              "<div>\n",
              "<style scoped>\n",
              "    .dataframe tbody tr th:only-of-type {\n",
              "        vertical-align: middle;\n",
              "    }\n",
              "\n",
              "    .dataframe tbody tr th {\n",
              "        vertical-align: top;\n",
              "    }\n",
              "\n",
              "    .dataframe thead th {\n",
              "        text-align: right;\n",
              "    }\n",
              "</style>\n",
              "<table border=\"1\" class=\"dataframe\">\n",
              "  <thead>\n",
              "    <tr style=\"text-align: right;\">\n",
              "      <th></th>\n",
              "      <th>Email_ID</th>\n",
              "      <th>Email_Type</th>\n",
              "      <th>Subject_Hotness_Score</th>\n",
              "      <th>Email_Source_Type</th>\n",
              "      <th>Customer_Location</th>\n",
              "      <th>Email_Campaign_Type</th>\n",
              "      <th>Total_Past_Communications</th>\n",
              "      <th>Time_Email_sent_Category</th>\n",
              "      <th>Word_Count</th>\n",
              "      <th>Total_Links</th>\n",
              "      <th>Total_Images</th>\n",
              "      <th>Email_Status</th>\n",
              "    </tr>\n",
              "  </thead>\n",
              "  <tbody>\n",
              "    <tr>\n",
              "      <th>68348</th>\n",
              "      <td>EMA00089995974500</td>\n",
              "      <td>2</td>\n",
              "      <td>0.4</td>\n",
              "      <td>1</td>\n",
              "      <td>F</td>\n",
              "      <td>2</td>\n",
              "      <td>22.0</td>\n",
              "      <td>3</td>\n",
              "      <td>737</td>\n",
              "      <td>16.0</td>\n",
              "      <td>13.0</td>\n",
              "      <td>0</td>\n",
              "    </tr>\n",
              "    <tr>\n",
              "      <th>68349</th>\n",
              "      <td>EMA00089998225300</td>\n",
              "      <td>1</td>\n",
              "      <td>1.3</td>\n",
              "      <td>1</td>\n",
              "      <td>C</td>\n",
              "      <td>2</td>\n",
              "      <td>40.0</td>\n",
              "      <td>2</td>\n",
              "      <td>653</td>\n",
              "      <td>31.0</td>\n",
              "      <td>16.0</td>\n",
              "      <td>0</td>\n",
              "    </tr>\n",
              "    <tr>\n",
              "      <th>68350</th>\n",
              "      <td>EMA00089998436500</td>\n",
              "      <td>1</td>\n",
              "      <td>2.2</td>\n",
              "      <td>2</td>\n",
              "      <td>NaN</td>\n",
              "      <td>2</td>\n",
              "      <td>33.0</td>\n",
              "      <td>2</td>\n",
              "      <td>490</td>\n",
              "      <td>9.0</td>\n",
              "      <td>0.0</td>\n",
              "      <td>0</td>\n",
              "    </tr>\n",
              "    <tr>\n",
              "      <th>68351</th>\n",
              "      <td>EMA00089999168800</td>\n",
              "      <td>1</td>\n",
              "      <td>0.4</td>\n",
              "      <td>1</td>\n",
              "      <td>E</td>\n",
              "      <td>2</td>\n",
              "      <td>50.0</td>\n",
              "      <td>1</td>\n",
              "      <td>733</td>\n",
              "      <td>14.0</td>\n",
              "      <td>4.0</td>\n",
              "      <td>0</td>\n",
              "    </tr>\n",
              "    <tr>\n",
              "      <th>68352</th>\n",
              "      <td>EMA00089999316900</td>\n",
              "      <td>1</td>\n",
              "      <td>1.5</td>\n",
              "      <td>1</td>\n",
              "      <td>G</td>\n",
              "      <td>2</td>\n",
              "      <td>20.0</td>\n",
              "      <td>2</td>\n",
              "      <td>1038</td>\n",
              "      <td>6.0</td>\n",
              "      <td>0.0</td>\n",
              "      <td>0</td>\n",
              "    </tr>\n",
              "  </tbody>\n",
              "</table>\n",
              "</div>"
            ],
            "text/plain": [
              "                Email_ID  Email_Type  Subject_Hotness_Score  \\\n",
              "68348  EMA00089995974500           2                    0.4   \n",
              "68349  EMA00089998225300           1                    1.3   \n",
              "68350  EMA00089998436500           1                    2.2   \n",
              "68351  EMA00089999168800           1                    0.4   \n",
              "68352  EMA00089999316900           1                    1.5   \n",
              "\n",
              "       Email_Source_Type Customer_Location  Email_Campaign_Type  \\\n",
              "68348                  1                 F                    2   \n",
              "68349                  1                 C                    2   \n",
              "68350                  2               NaN                    2   \n",
              "68351                  1                 E                    2   \n",
              "68352                  1                 G                    2   \n",
              "\n",
              "       Total_Past_Communications  Time_Email_sent_Category  Word_Count  \\\n",
              "68348                       22.0                         3         737   \n",
              "68349                       40.0                         2         653   \n",
              "68350                       33.0                         2         490   \n",
              "68351                       50.0                         1         733   \n",
              "68352                       20.0                         2        1038   \n",
              "\n",
              "       Total_Links  Total_Images  Email_Status  \n",
              "68348         16.0          13.0             0  \n",
              "68349         31.0          16.0             0  \n",
              "68350          9.0           0.0             0  \n",
              "68351         14.0           4.0             0  \n",
              "68352          6.0           0.0             0  "
            ]
          },
          "execution_count": 7,
          "metadata": {},
          "output_type": "execute_result"
        }
      ],
      "source": [
        "email_df.tail()"
      ]
    },
    {
      "cell_type": "markdown",
      "id": "6574092e",
      "metadata": {
        "id": "6574092e"
      },
      "source": [
        "\n",
        "### Dataset Rows & Columns count"
      ]
    },
    {
      "cell_type": "code",
      "execution_count": null,
      "id": "9cf15170",
      "metadata": {
        "id": "9cf15170",
        "outputId": "3512fd7a-c8d8-49dc-9380-9f3537c5d871"
      },
      "outputs": [
        {
          "name": "stdout",
          "output_type": "stream",
          "text": [
            "shape of the email_df (68353, 12)\n"
          ]
        }
      ],
      "source": [
        "\n",
        "# Dataset Rows & Columns count\n",
        "print(f'shape of the email_df {email_df.shape}')\n",
        "     "
      ]
    },
    {
      "cell_type": "markdown",
      "id": "331e109d",
      "metadata": {
        "id": "331e109d"
      },
      "source": [
        "## creating copy of original dataset"
      ]
    },
    {
      "cell_type": "code",
      "execution_count": null,
      "id": "c105cd7b",
      "metadata": {
        "id": "c105cd7b"
      },
      "outputs": [],
      "source": [
        "\n",
        "#create a copy of dataframe\n",
        "email_df_champ=email_df.copy()"
      ]
    },
    {
      "cell_type": "markdown",
      "id": "7aa89ed4",
      "metadata": {
        "id": "7aa89ed4"
      },
      "source": [
        "### Data Information"
      ]
    },
    {
      "cell_type": "code",
      "execution_count": null,
      "id": "455dea93",
      "metadata": {
        "id": "455dea93",
        "outputId": "d01445d8-9c7e-4af4-982c-f93a7f7b4aa7"
      },
      "outputs": [
        {
          "name": "stdout",
          "output_type": "stream",
          "text": [
            "Feature datatype of email_df :\n",
            "\n",
            " Email_ID                      object\n",
            "Email_Type                     int64\n",
            "Subject_Hotness_Score        float64\n",
            "Email_Source_Type              int64\n",
            "Customer_Location             object\n",
            "Email_Campaign_Type            int64\n",
            "Total_Past_Communications    float64\n",
            "Time_Email_sent_Category       int64\n",
            "Word_Count                     int64\n",
            "Total_Links                  float64\n",
            "Total_Images                 float64\n",
            "Email_Status                   int64\n",
            "dtype: object\n"
          ]
        }
      ],
      "source": [
        "# datatypes of features present in the dataframe\n",
        "print(f'Feature datatype of email_df :\\n\\n {email_df.dtypes}')\n",
        "     "
      ]
    },
    {
      "cell_type": "code",
      "execution_count": null,
      "id": "e6ae2a4c",
      "metadata": {
        "id": "e6ae2a4c",
        "outputId": "34b163ef-acc3-4b3a-e123-f0ccc062c38c"
      },
      "outputs": [
        {
          "name": "stdout",
          "output_type": "stream",
          "text": [
            "<class 'pandas.core.frame.DataFrame'>\n",
            "RangeIndex: 68353 entries, 0 to 68352\n",
            "Data columns (total 12 columns):\n",
            " #   Column                     Non-Null Count  Dtype  \n",
            "---  ------                     --------------  -----  \n",
            " 0   Email_ID                   68353 non-null  object \n",
            " 1   Email_Type                 68353 non-null  int64  \n",
            " 2   Subject_Hotness_Score      68353 non-null  float64\n",
            " 3   Email_Source_Type          68353 non-null  int64  \n",
            " 4   Customer_Location          56758 non-null  object \n",
            " 5   Email_Campaign_Type        68353 non-null  int64  \n",
            " 6   Total_Past_Communications  61528 non-null  float64\n",
            " 7   Time_Email_sent_Category   68353 non-null  int64  \n",
            " 8   Word_Count                 68353 non-null  int64  \n",
            " 9   Total_Links                66152 non-null  float64\n",
            " 10  Total_Images               66676 non-null  float64\n",
            " 11  Email_Status               68353 non-null  int64  \n",
            "dtypes: float64(4), int64(6), object(2)\n",
            "memory usage: 6.3+ MB\n"
          ]
        }
      ],
      "source": [
        "# datframe information\n",
        "email_df.info()\n",
        "     "
      ]
    },
    {
      "cell_type": "markdown",
      "id": "260737e7",
      "metadata": {
        "id": "260737e7"
      },
      "source": [
        "### count of Missing Values"
      ]
    },
    {
      "cell_type": "code",
      "execution_count": null,
      "id": "2422df54",
      "metadata": {
        "id": "2422df54"
      },
      "outputs": [],
      "source": [
        "\n",
        "def missing_value_percent(df):\n",
        "    ''' function receives dataframe as input\n",
        "    prints the features with missing value and percentage of missing values'''\n",
        "    \n",
        "    print('Missing Data Count')\n",
        "    print(df.isnull().sum().sort_values(ascending = False))\n",
        "\n",
        "    print('--'*50)\n",
        "    print('Missing Data Percentage')\n",
        "    print(f'{round(df.isnull().sum().sort_values(ascending = False)/len(df)*100,2)}%')\n",
        "     "
      ]
    },
    {
      "cell_type": "code",
      "execution_count": null,
      "id": "6b9c106d",
      "metadata": {
        "id": "6b9c106d",
        "outputId": "8ff6015b-e8a7-425d-fb14-c409879e8b65"
      },
      "outputs": [
        {
          "name": "stdout",
          "output_type": "stream",
          "text": [
            "Missing Data Count\n",
            "Customer_Location            11595\n",
            "Total_Past_Communications     6825\n",
            "Total_Links                   2201\n",
            "Total_Images                  1677\n",
            "Email_ID                         0\n",
            "Email_Type                       0\n",
            "Subject_Hotness_Score            0\n",
            "Email_Source_Type                0\n",
            "Email_Campaign_Type              0\n",
            "Time_Email_sent_Category         0\n",
            "Word_Count                       0\n",
            "Email_Status                     0\n",
            "dtype: int64\n",
            "----------------------------------------------------------------------------------------------------\n",
            "Missing Data Percentage\n",
            "Customer_Location            16.96\n",
            "Total_Past_Communications     9.98\n",
            "Total_Links                   3.22\n",
            "Total_Images                  2.45\n",
            "Email_ID                      0.00\n",
            "Email_Type                    0.00\n",
            "Subject_Hotness_Score         0.00\n",
            "Email_Source_Type             0.00\n",
            "Email_Campaign_Type           0.00\n",
            "Time_Email_sent_Category      0.00\n",
            "Word_Count                    0.00\n",
            "Email_Status                  0.00\n",
            "dtype: float64%\n"
          ]
        }
      ],
      "source": [
        "\n",
        "#percentage of null value \n",
        "missing_value_percent(email_df)"
      ]
    },
    {
      "cell_type": "code",
      "execution_count": null,
      "id": "60c012b7",
      "metadata": {
        "id": "60c012b7",
        "outputId": "e118427d-a97d-4ca5-90e2-ba1a92cfd52b"
      },
      "outputs": [
        {
          "data": {
            "text/plain": [
              "<AxesSubplot:>"
            ]
          },
          "execution_count": 16,
          "metadata": {},
          "output_type": "execute_result"
        },
        {
          "data": {
            "image/png": "[encoded data removed]",
            "text/plain": [
              "<Figure size 1152x576 with 1 Axes>"
            ]
          },
          "metadata": {
            "needs_background": "light"
          },
          "output_type": "display_data"
        }
      ],
      "source": [
        "#plotting graph\n",
        "plt.figure(figsize=(16,8))\n",
        "email_df.isnull().sum().sort_values(ascending=False).plot(kind=\"bar\")"
      ]
    },
    {
      "cell_type": "markdown",
      "id": "a74a5cf8",
      "metadata": {
        "id": "a74a5cf8"
      },
      "source": [
        "### count of duplicate values\n"
      ]
    },
    {
      "cell_type": "code",
      "execution_count": null,
      "id": "f6ffbf08",
      "metadata": {
        "id": "f6ffbf08",
        "outputId": "9655aecc-d8cd-4c39-c4d8-f9ed30599bb3"
      },
      "outputs": [
        {
          "name": "stdout",
          "output_type": "stream",
          "text": [
            " Number of duplicated observation present in the dataset:0\n"
          ]
        }
      ],
      "source": [
        "# count of duplicate rows\n",
        "print(f' Number of duplicated observation present in the dataset:{email_df.duplicated().sum()}')\n",
        "     "
      ]
    },
    {
      "cell_type": "markdown",
      "id": "f4325db5",
      "metadata": {
        "id": "f4325db5"
      },
      "source": [
        "### Using describe function on dataframe"
      ]
    },
    {
      "cell_type": "code",
      "execution_count": null,
      "id": "dec7f061",
      "metadata": {
        "id": "dec7f061",
        "outputId": "44af94ef-8b5c-4e67-d9f5-e4a224416035"
      },
      "outputs": [
        {
          "name": "stdout",
          "output_type": "stream",
          "text": [
            "Feature of email_df :\n",
            " Index(['Email_ID', 'Email_Type', 'Subject_Hotness_Score', 'Email_Source_Type',\n",
            "       'Customer_Location', 'Email_Campaign_Type', 'Total_Past_Communications',\n",
            "       'Time_Email_sent_Category', 'Word_Count', 'Total_Links', 'Total_Images',\n",
            "       'Email_Status'],\n",
            "      dtype='object')\n"
          ]
        }
      ],
      "source": [
        "\n",
        "# Dataset Columns\n",
        "print(f'Feature of email_df :\\n {email_df.columns}')\n"
      ]
    },
    {
      "cell_type": "code",
      "execution_count": null,
      "id": "a9ddb5ed",
      "metadata": {
        "id": "a9ddb5ed",
        "outputId": "31599607-3b6c-42fc-97be-ea99af267477"
      },
      "outputs": [
        {
          "data": {
            "text/html": [
              "<div>\n",
              "<style scoped>\n",
              "    .dataframe tbody tr th:only-of-type {\n",
              "        vertical-align: middle;\n",
              "    }\n",
              "\n",
              "    .dataframe tbody tr th {\n",
              "        vertical-align: top;\n",
              "    }\n",
              "\n",
              "    .dataframe thead th {\n",
              "        text-align: right;\n",
              "    }\n",
              "</style>\n",
              "<table border=\"1\" class=\"dataframe\">\n",
              "  <thead>\n",
              "    <tr style=\"text-align: right;\">\n",
              "      <th></th>\n",
              "      <th>count</th>\n",
              "      <th>mean</th>\n",
              "      <th>std</th>\n",
              "      <th>min</th>\n",
              "      <th>25%</th>\n",
              "      <th>50%</th>\n",
              "      <th>75%</th>\n",
              "      <th>max</th>\n",
              "    </tr>\n",
              "  </thead>\n",
              "  <tbody>\n",
              "    <tr>\n",
              "      <th>Email_Type</th>\n",
              "      <td>68353.0</td>\n",
              "      <td>1.285094</td>\n",
              "      <td>0.451462</td>\n",
              "      <td>1.0</td>\n",
              "      <td>1.0</td>\n",
              "      <td>1.0</td>\n",
              "      <td>2.0</td>\n",
              "      <td>2.0</td>\n",
              "    </tr>\n",
              "    <tr>\n",
              "      <th>Subject_Hotness_Score</th>\n",
              "      <td>68353.0</td>\n",
              "      <td>1.095481</td>\n",
              "      <td>0.997578</td>\n",
              "      <td>0.0</td>\n",
              "      <td>0.2</td>\n",
              "      <td>0.8</td>\n",
              "      <td>1.8</td>\n",
              "      <td>5.0</td>\n",
              "    </tr>\n",
              "    <tr>\n",
              "      <th>Email_Source_Type</th>\n",
              "      <td>68353.0</td>\n",
              "      <td>1.456513</td>\n",
              "      <td>0.498109</td>\n",
              "      <td>1.0</td>\n",
              "      <td>1.0</td>\n",
              "      <td>1.0</td>\n",
              "      <td>2.0</td>\n",
              "      <td>2.0</td>\n",
              "    </tr>\n",
              "    <tr>\n",
              "      <th>Email_Campaign_Type</th>\n",
              "      <td>68353.0</td>\n",
              "      <td>2.272234</td>\n",
              "      <td>0.468680</td>\n",
              "      <td>1.0</td>\n",
              "      <td>2.0</td>\n",
              "      <td>2.0</td>\n",
              "      <td>3.0</td>\n",
              "      <td>3.0</td>\n",
              "    </tr>\n",
              "    <tr>\n",
              "      <th>Total_Past_Communications</th>\n",
              "      <td>61528.0</td>\n",
              "      <td>28.933250</td>\n",
              "      <td>12.536518</td>\n",
              "      <td>0.0</td>\n",
              "      <td>20.0</td>\n",
              "      <td>28.0</td>\n",
              "      <td>38.0</td>\n",
              "      <td>67.0</td>\n",
              "    </tr>\n",
              "    <tr>\n",
              "      <th>Time_Email_sent_Category</th>\n",
              "      <td>68353.0</td>\n",
              "      <td>1.999298</td>\n",
              "      <td>0.631103</td>\n",
              "      <td>1.0</td>\n",
              "      <td>2.0</td>\n",
              "      <td>2.0</td>\n",
              "      <td>2.0</td>\n",
              "      <td>3.0</td>\n",
              "    </tr>\n",
              "    <tr>\n",
              "      <th>Word_Count</th>\n",
              "      <td>68353.0</td>\n",
              "      <td>699.931751</td>\n",
              "      <td>271.719440</td>\n",
              "      <td>40.0</td>\n",
              "      <td>521.0</td>\n",
              "      <td>694.0</td>\n",
              "      <td>880.0</td>\n",
              "      <td>1316.0</td>\n",
              "    </tr>\n",
              "    <tr>\n",
              "      <th>Total_Links</th>\n",
              "      <td>66152.0</td>\n",
              "      <td>10.429526</td>\n",
              "      <td>6.383270</td>\n",
              "      <td>1.0</td>\n",
              "      <td>6.0</td>\n",
              "      <td>9.0</td>\n",
              "      <td>14.0</td>\n",
              "      <td>49.0</td>\n",
              "    </tr>\n",
              "    <tr>\n",
              "      <th>Total_Images</th>\n",
              "      <td>66676.0</td>\n",
              "      <td>3.550678</td>\n",
              "      <td>5.596983</td>\n",
              "      <td>0.0</td>\n",
              "      <td>0.0</td>\n",
              "      <td>0.0</td>\n",
              "      <td>5.0</td>\n",
              "      <td>45.0</td>\n",
              "    </tr>\n",
              "    <tr>\n",
              "      <th>Email_Status</th>\n",
              "      <td>68353.0</td>\n",
              "      <td>0.230934</td>\n",
              "      <td>0.497032</td>\n",
              "      <td>0.0</td>\n",
              "      <td>0.0</td>\n",
              "      <td>0.0</td>\n",
              "      <td>0.0</td>\n",
              "      <td>2.0</td>\n",
              "    </tr>\n",
              "  </tbody>\n",
              "</table>\n",
              "</div>"
            ],
            "text/plain": [
              "                             count        mean         std   min    25%  \\\n",
              "Email_Type                 68353.0    1.285094    0.451462   1.0    1.0   \n",
              "Subject_Hotness_Score      68353.0    1.095481    0.997578   0.0    0.2   \n",
              "Email_Source_Type          68353.0    1.456513    0.498109   1.0    1.0   \n",
              "Email_Campaign_Type        68353.0    2.272234    0.468680   1.0    2.0   \n",
              "Total_Past_Communications  61528.0   28.933250   12.536518   0.0   20.0   \n",
              "Time_Email_sent_Category   68353.0    1.999298    0.631103   1.0    2.0   \n",
              "Word_Count                 68353.0  699.931751  271.719440  40.0  521.0   \n",
              "Total_Links                66152.0   10.429526    6.383270   1.0    6.0   \n",
              "Total_Images               66676.0    3.550678    5.596983   0.0    0.0   \n",
              "Email_Status               68353.0    0.230934    0.497032   0.0    0.0   \n",
              "\n",
              "                             50%    75%     max  \n",
              "Email_Type                   1.0    2.0     2.0  \n",
              "Subject_Hotness_Score        0.8    1.8     5.0  \n",
              "Email_Source_Type            1.0    2.0     2.0  \n",
              "Email_Campaign_Type          2.0    3.0     3.0  \n",
              "Total_Past_Communications   28.0   38.0    67.0  \n",
              "Time_Email_sent_Category     2.0    2.0     3.0  \n",
              "Word_Count                 694.0  880.0  1316.0  \n",
              "Total_Links                  9.0   14.0    49.0  \n",
              "Total_Images                 0.0    5.0    45.0  \n",
              "Email_Status                 0.0    0.0     2.0  "
            ]
          },
          "execution_count": 20,
          "metadata": {},
          "output_type": "execute_result"
        }
      ],
      "source": [
        "\n",
        "#using describe function and including all numerical as well as categorical feature\n",
        "email_df.describe().T\n",
        "     "
      ]
    },
    {
      "cell_type": "markdown",
      "id": "460167af",
      "metadata": {
        "id": "460167af"
      },
      "source": [
        "### Check Unique Values for each variable.\n"
      ]
    },
    {
      "cell_type": "code",
      "execution_count": null,
      "id": "ee243452",
      "metadata": {
        "id": "ee243452",
        "outputId": "e0896c46-719d-4044-f466-e37a9b97298d"
      },
      "outputs": [
        {
          "data": {
            "text/plain": [
              "Email_ID                     68353\n",
              "Email_Type                       2\n",
              "Subject_Hotness_Score           51\n",
              "Email_Source_Type                2\n",
              "Customer_Location                7\n",
              "Email_Campaign_Type              3\n",
              "Total_Past_Communications       64\n",
              "Time_Email_sent_Category         3\n",
              "Word_Count                     151\n",
              "Total_Links                     37\n",
              "Total_Images                    45\n",
              "Email_Status                     3\n",
              "dtype: int64"
            ]
          },
          "execution_count": 21,
          "metadata": {},
          "output_type": "execute_result"
        }
      ],
      "source": [
        "\n",
        "# check no of unique element present in each feature (columns)\n",
        "email_df.nunique()"
      ]
    },
    {
      "cell_type": "code",
      "execution_count": null,
      "id": "2fed0f90",
      "metadata": {
        "id": "2fed0f90",
        "outputId": "387fa721-7460-4437-8f99-bdef24e61fde"
      },
      "outputs": [
        {
          "data": {
            "text/plain": [
              "<AxesSubplot:>"
            ]
          },
          "execution_count": 22,
          "metadata": {},
          "output_type": "execute_result"
        },
        {
          "data": {
            "image/png": "[encoded data removed]",
            "text/plain": [
              "<Figure size 1152x576 with 1 Axes>"
            ]
          },
          "metadata": {
            "needs_background": "light"
          },
          "output_type": "display_data"
        }
      ],
      "source": [
        "\n",
        "#plotting graph\n",
        "plt.figure(figsize=(16,8))\n",
        "email_df.nunique().sort_values(ascending=False).plot(kind=\"bar\")"
      ]
    },
    {
      "cell_type": "code",
      "execution_count": null,
      "id": "4ed1c974",
      "metadata": {
        "id": "4ed1c974"
      },
      "outputs": [],
      "source": []
    },
    {
      "cell_type": "code",
      "execution_count": null,
      "id": "aa6f0e3f",
      "metadata": {
        "id": "aa6f0e3f"
      },
      "outputs": [],
      "source": []
    }
  ],
  "metadata": {
    "kernelspec": {
      "display_name": "Python 3 (ipykernel)",
      "language": "python",
      "name": "python3"
    },
    "language_info": {
      "codemirror_mode": {
        "name": "ipython",
        "version": 3
      },
      "file_extension": ".py",
      "mimetype": "text/x-python",
      "name": "python",
      "nbconvert_exporter": "python",
      "pygments_lexer": "ipython3",
      "version": "3.9.7"
    },
    "colab": {
      "provenance": [],
      "include_colab_link": true
    }
  },
  "nbformat": 4,
  "nbformat_minor": 5
}